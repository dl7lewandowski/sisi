{
  "cells": [
    {
      "cell_type": "markdown",
      "metadata": {
        "id": "11pNOKmFmZR6"
      },
      "source": [
        "# LAB0 - Podstawy"
      ]
    },
    {
      "cell_type": "markdown",
      "metadata": {
        "id": "PrhkubqAmZR8"
      },
      "source": [
        "Przedmiot: _Sztuczna Inteligencja w Systemach Informatycznych_\n",
        "\n",
        "Autor: Tomasz Szydło\n",
        "\n",
        "kontakt: tszydlo@agh.edu.pl\n"
      ]
    },
    {
      "cell_type": "markdown",
      "metadata": {
        "id": "-PQwdLbUmZR9"
      },
      "source": [
        "# Wprowadzenie\n",
        "\n",
        "Celem zajęć jest zaznajomienie się z podstawowymi technikami sotosowanymi w uczeniu maszynowym. W trakcie zajęć laboratoryjnych zostanie wykorzystany zbiór danych Irys, a następnie dla wybranych algorytmów uczenia maszynowego zostanie zidentyfikowany jeden, który cechuje się najwyższą jakością klasyfikacji.\n",
        "\n",
        "Środowisko pracy: Anaconda, Jupyter Notebook\n",
        "\n",
        "Narzędzia: Scikit Learn, Python"
      ]
    },
    {
      "cell_type": "markdown",
      "metadata": {
        "id": "C9B54jhGmZR-"
      },
      "source": [
        "## Zbiór _Iris_\n",
        "\n",
        "Zbiór danych *iris*  zawiera 150 instancji opisujących kwiaty Irysa. Kwiaty są określone przy pomocy 4 atrybutów numerycznych opisujących długości i szerokości płatków kwiatu *sepal* i *petal*. Ostatni atrybut jakościowy definiuje gatunek opisywanego Irysa (species). Jednym z problemów możliwych do rozwiązania przy użyciu tego zbioru uczącego jest określenie gatunku dla nowego kwiatu Irysa w zależności od wielkości jego płatków. Jest to przykład zadania klasyfikacji.\n",
        "\n",
        "Zbiór uczący *iris* jest zbiorem etykietowanym ponieważ klasa, czyli konkretny gatunek irysa jest znany dla każdej instancji (obiektu) w zbiorze uczącym:\n",
        "\n",
        "https://archive.ics.uci.edu/ml/datasets/iris\n",
        "\n",
        "```\n",
        "Source:\n",
        "\n",
        "Creator:\n",
        "\n",
        "R.A. Fisher\n",
        "\n",
        "Donor:\n",
        "\n",
        "Michael Marshall (MARSHALL%PLU '@' io.arc.nasa.gov)\n",
        "\n",
        "Data Set Information:\n",
        "\n",
        "This is perhaps the best known database to be found in the pattern recognition literature. Fisher's paper is a classic in the field and is referenced frequently to this day. (See Duda & Hart, for example.) The data set contains 3 classes of 50 instances each, where each class refers to a type of iris plant. One class is linearly separable from the other 2; the latter are NOT linearly separable from each other.\n",
        "\n",
        "Predicted attribute: class of iris plant.\n",
        "\n",
        "This is an exceedingly simple domain.\n",
        "\n",
        "This data differs from the data presented in Fishers article (identified by Steve Chadwick, spchadwick '@' espeedaz.net ). The 35th sample should be: 4.9,3.1,1.5,0.2,\"Iris-setosa\" where the error is in the fourth feature. The 38th sample: 4.9,3.6,1.4,0.1,\"Iris-setosa\" where the errors are in the second and third features.\n",
        "\n",
        "Attribute Information:\n",
        "\n",
        "1. sepal length in cm\n",
        "2. sepal width in cm\n",
        "3. petal length in cm\n",
        "4. petal width in cm\n",
        "5. class:\n",
        "-- Iris Setosa\n",
        "-- Iris Versicolour\n",
        "-- Iris Virginica\n",
        "```\n",
        "![](iris.png)"
      ]
    },
    {
      "cell_type": "markdown",
      "metadata": {
        "id": "X0J2jUqDmZR_"
      },
      "source": [
        "# Konfiguracja wstępna"
      ]
    },
    {
      "cell_type": "code",
      "execution_count": 71,
      "metadata": {
        "id": "JQVHRFxBmZSA"
      },
      "outputs": [],
      "source": [
        "# Konfiguracja interakcji z wykresami pakietu matplotlib\n",
        "\n",
        "# Standardowe rozwiązanie\n",
        "%matplotlib inline\n",
        "\n",
        "# Interaktywne wykresy - może powodować błędy\n",
        "# %matplotlib notebook"
      ]
    },
    {
      "cell_type": "code",
      "execution_count": 69,
      "metadata": {
        "id": "v408sOJAmZSB"
      },
      "outputs": [],
      "source": [
        "# Załaduj biblioteki\n",
        "from pandas import read_csv\n",
        "from matplotlib import pyplot\n",
        "from pandas.plotting import scatter_matrix\n",
        "from sklearn.model_selection import train_test_split\n",
        "from sklearn.linear_model import LogisticRegression\n",
        "from sklearn.metrics import accuracy_score\n",
        "from sklearn.metrics import confusion_matrix\n",
        "from sklearn.metrics import classification_report\n",
        "from sklearn.neighbors import KNeighborsClassifier\n",
        "from sklearn.discriminant_analysis import LinearDiscriminantAnalysis\n",
        "from sklearn.naive_bayes import GaussianNB\n",
        "from sklearn.svm import SVC\n",
        "from sklearn.tree import DecisionTreeClassifier\n",
        "import pandas as pd\n",
        "\n",
        "import numpy as np\n",
        "\n",
        "\n"
      ]
    },
    {
      "cell_type": "markdown",
      "metadata": {
        "id": "GiYz04jkmZSC"
      },
      "source": [
        "# Operacje na danych tablicowych - przykłady dla _NumPy_"
      ]
    },
    {
      "cell_type": "code",
      "execution_count": 15,
      "metadata": {
        "colab": {
          "base_uri": "https://localhost:8080/"
        },
        "id": "QJ8DV6GLmZSC",
        "outputId": "679fe296-8e04-4252-80b7-d4f98f24aa59"
      },
      "outputs": [
        {
          "output_type": "stream",
          "name": "stdout",
          "text": [
            "[1 2 3]\n",
            "[[1.5 2.  3. ]\n",
            " [4.  5.  6. ]]\n",
            "[[[1.5 2.  3. ]\n",
            "  [4.  5.  6. ]]\n",
            "\n",
            " [[3.  2.  1. ]\n",
            "  [4.  5.  6. ]]]\n"
          ]
        }
      ],
      "source": [
        "# NumPy - tworzenie tablic\n",
        "\n",
        "a = np.array([1,2,3])\n",
        "b = np.array([(1.5,2,3), (4,5,6)], dtype = float)\n",
        "c = np.array([[(1.5,2,3), (4,5,6)], [(3,2,1), (4,5,6)]], dtype = float)\n",
        "\n",
        "print(a)\n",
        "print(b)\n",
        "print(c)"
      ]
    },
    {
      "cell_type": "code",
      "execution_count": 16,
      "metadata": {
        "colab": {
          "base_uri": "https://localhost:8080/"
        },
        "id": "7YDK1AG0mZSD",
        "outputId": "d54d556f-f118-4532-b558-65716d343228"
      },
      "outputs": [
        {
          "output_type": "stream",
          "name": "stdout",
          "text": [
            "(3,)\n",
            "3\n",
            "2\n",
            "12\n",
            "float64\n",
            "float64\n",
            "[[1 2 3]\n",
            " [4 5 6]]\n"
          ]
        }
      ],
      "source": [
        "# NumPy - przeglądanie tablic\n",
        "\n",
        "print(a.shape)\n",
        "print(len(a))\n",
        "print(b.ndim)\n",
        "print(c.size)\n",
        "print(b.dtype)\n",
        "print(b.dtype.name)\n",
        "print(b.astype(int))"
      ]
    },
    {
      "cell_type": "code",
      "execution_count": 17,
      "metadata": {
        "colab": {
          "base_uri": "https://localhost:8080/"
        },
        "id": "nqairTozmZSE",
        "outputId": "6a84ce8b-7fdc-4a11-cc8c-fb7527fc6457"
      },
      "outputs": [
        {
          "output_type": "stream",
          "name": "stdout",
          "text": [
            "3\n",
            "6.0\n",
            "[1 2]\n",
            "[2. 5.]\n",
            "[[1.5 2.  3. ]]\n",
            "[[1.5 2.  3. ]]\n"
          ]
        }
      ],
      "source": [
        "# NumPy - subsetting\n",
        "\n",
        "print(a[2]) #wybierz element z indeksem równym 2\n",
        "print(b[1,2]) # wybierz element z pierwszego wiersza i drugiej kolumny\n",
        "\n",
        "# NumPy - slicing\n",
        "print(a[0:2])   #wybierz elementy o indeksach 0 i 1\n",
        "print(b[0:2,1]) #wybierz elementy z wiersza 0 i 1 oraz kolumny 1\n",
        "\n",
        "print(b[:1])    #wybierz elementy z wiersza 0 \n",
        "print(b[0:1,:]) #wybierz elementy z wiersza 0"
      ]
    },
    {
      "cell_type": "markdown",
      "metadata": {
        "id": "DvNiYs6ymZSF"
      },
      "source": [
        "# Wczytywanie danych - biblioteka _Pandas_"
      ]
    },
    {
      "cell_type": "markdown",
      "metadata": {
        "id": "iEpVwwudmZSF"
      },
      "source": [
        "Przeanalizuj w edytorze teksotwym format i zawartośc pliku wejściowego ze zbiorem - plik _iris.csv_.\n",
        "\n",
        "_UWAGA! W przypadku błędów z odczytem danych popraw pliki zawierające dane wejściowe._"
      ]
    },
    {
      "cell_type": "code",
      "execution_count": 18,
      "metadata": {
        "id": "gDsJse21mZSF"
      },
      "outputs": [],
      "source": [
        "filename = './iris.csv'\n",
        "dataset = read_csv(filename)"
      ]
    },
    {
      "cell_type": "markdown",
      "metadata": {
        "id": "NfsT0k1tmZSF"
      },
      "source": [
        "Wypisz rozmiar danych wejściowych."
      ]
    },
    {
      "cell_type": "code",
      "execution_count": 19,
      "metadata": {
        "colab": {
          "base_uri": "https://localhost:8080/"
        },
        "id": "8ESKxM8wmZSG",
        "outputId": "1b7dc6da-ea06-42ef-9f95-ab7f83b9032c"
      },
      "outputs": [
        {
          "output_type": "stream",
          "name": "stdout",
          "text": [
            "(150, 5)\n"
          ]
        }
      ],
      "source": [
        "print(dataset.shape)"
      ]
    },
    {
      "cell_type": "markdown",
      "metadata": {
        "id": "PSx3UiyVmZSG"
      },
      "source": [
        "Sprawdź poprawność odczytania danych poprzez wypisanie pierwszych 20 wierszy."
      ]
    },
    {
      "cell_type": "code",
      "execution_count": 22,
      "metadata": {
        "colab": {
          "base_uri": "https://localhost:8080/"
        },
        "id": "CSjWo6idmZSG",
        "outputId": "ba0053d4-3123-4468-a17c-58348b9a53fb"
      },
      "outputs": [
        {
          "output_type": "stream",
          "name": "stdout",
          "text": [
            "    sepal.length  sepal.width  petal.length  petal.width variety\n",
            "0            5.1          3.5           1.4          0.2  Setosa\n",
            "1            4.9          3.0           1.4          0.2  Setosa\n",
            "2            4.7          3.2           1.3          0.2  Setosa\n",
            "3            4.6          3.1           1.5          0.2  Setosa\n",
            "4            5.0          3.6           1.4          0.2  Setosa\n",
            "5            5.4          3.9           1.7          0.4  Setosa\n",
            "6            4.6          3.4           1.4          0.3  Setosa\n",
            "7            5.0          3.4           1.5          0.2  Setosa\n",
            "8            4.4          2.9           1.4          0.2  Setosa\n",
            "9            4.9          3.1           1.5          0.1  Setosa\n",
            "10           5.4          3.7           1.5          0.2  Setosa\n",
            "11           4.8          3.4           1.6          0.2  Setosa\n",
            "12           4.8          3.0           1.4          0.1  Setosa\n",
            "13           4.3          3.0           1.1          0.1  Setosa\n",
            "14           5.8          4.0           1.2          0.2  Setosa\n",
            "15           5.7          4.4           1.5          0.4  Setosa\n",
            "16           5.4          3.9           1.3          0.4  Setosa\n",
            "17           5.1          3.5           1.4          0.3  Setosa\n",
            "18           5.7          3.8           1.7          0.3  Setosa\n",
            "19           5.1          3.8           1.5          0.3  Setosa\n"
          ]
        }
      ],
      "source": [
        "print(dataset.head(20))"
      ]
    },
    {
      "cell_type": "markdown",
      "metadata": {
        "id": "tBm0HqywmZSH"
      },
      "source": [
        "# Analiza statystyczna"
      ]
    },
    {
      "cell_type": "markdown",
      "metadata": {
        "id": "SvNADR1DmZSH"
      },
      "source": [
        "Sprawdź jaki jest przedział wartości, czy nie ma elementów znacznie odbiegających od wartości oczekiwanej. Mogłoby to sugerować błędy w danych wejściowych."
      ]
    },
    {
      "cell_type": "code",
      "execution_count": 76,
      "metadata": {
        "id": "FuNEkJH_mZSH",
        "colab": {
          "base_uri": "https://localhost:8080/"
        },
        "outputId": "e70584f5-2cca-4947-daa3-97cf029c99df"
      },
      "outputs": [
        {
          "output_type": "stream",
          "name": "stdout",
          "text": [
            "       sepal.length  sepal.width  petal.length  petal.width\n",
            "count    150.000000   150.000000    150.000000   150.000000\n",
            "mean       5.843333     3.057333      3.758000     1.199333\n",
            "std        0.828066     0.435866      1.765298     0.762238\n",
            "min        4.300000     2.000000      1.000000     0.100000\n",
            "25%        5.100000     2.800000      1.600000     0.300000\n",
            "50%        5.800000     3.000000      4.350000     1.300000\n",
            "75%        6.400000     3.300000      5.100000     1.800000\n",
            "max        7.900000     4.400000      6.900000     2.500000\n"
          ]
        }
      ],
      "source": [
        "# descriptions\n",
        "print(dataset.describe())"
      ]
    },
    {
      "cell_type": "markdown",
      "metadata": {
        "id": "4nXOQ7hDmZSH"
      },
      "source": [
        "Sprawdź czy licznośc klas wynikowych jest zbliżona. Występowanie znacznych dysproporcji może skutkować błędnym wyuczeniem modelu."
      ]
    },
    {
      "cell_type": "code",
      "execution_count": 24,
      "metadata": {
        "id": "2dvzHNqWmZSI",
        "colab": {
          "base_uri": "https://localhost:8080/"
        },
        "outputId": "c286d895-e4ef-46c6-8e0c-8f4ae878babd"
      },
      "outputs": [
        {
          "output_type": "stream",
          "name": "stdout",
          "text": [
            "variety\n",
            "Setosa        50\n",
            "Versicolor    50\n",
            "Virginica     50\n",
            "dtype: int64\n"
          ]
        }
      ],
      "source": [
        "# class distribution\n",
        "print(dataset.groupby('variety').size())"
      ]
    },
    {
      "cell_type": "markdown",
      "metadata": {
        "id": "vz3dZ-z-mZSI"
      },
      "source": [
        "# Wizualizacja danych"
      ]
    },
    {
      "cell_type": "markdown",
      "metadata": {
        "id": "7WFCJKtbmZSI"
      },
      "source": [
        "Narysuj wykresy przedstawiające dane wejściowe."
      ]
    },
    {
      "cell_type": "code",
      "execution_count": 25,
      "metadata": {
        "id": "4V_QJg2JmZSJ",
        "colab": {
          "base_uri": "https://localhost:8080/"
        },
        "outputId": "4fc33c28-023f-465d-a8d2-becee0c4e552"
      },
      "outputs": [
        {
          "output_type": "display_data",
          "data": {
            "text/plain": [
              "<Figure size 432x288 with 4 Axes>"
            ],
            "image/png": "[encoded data removed]"
          },
          "metadata": {
            "needs_background": "light"
          }
        }
      ],
      "source": [
        "dataset.hist()\n",
        "pyplot.show()"
      ]
    },
    {
      "cell_type": "code",
      "execution_count": 26,
      "metadata": {
        "id": "iVX72TSamZSJ",
        "colab": {
          "base_uri": "https://localhost:8080/"
        },
        "outputId": "31ae84dc-b970-442e-ab52-c59c38067da6"
      },
      "outputs": [
        {
          "output_type": "display_data",
          "data": {
            "text/plain": [
              "<Figure size 432x288 with 4 Axes>"
            ],
            "image/png": "[encoded data removed]"
          },
          "metadata": {
            "needs_background": "light"
          }
        }
      ],
      "source": [
        "dataset.plot(kind='box', subplots=True, layout=(2,2), sharex=False, sharey=False)\n",
        "pyplot.show()"
      ]
    },
    {
      "cell_type": "code",
      "execution_count": 27,
      "metadata": {
        "id": "qXKfjkfimZSJ",
        "colab": {
          "base_uri": "https://localhost:8080/"
        },
        "outputId": "68cbedba-6ec1-4450-f7ca-41f36f67465a"
      },
      "outputs": [
        {
          "output_type": "display_data",
          "data": {
            "text/plain": [
              "<Figure size 432x288 with 16 Axes>"
            ],
            "image/png": "[encoded data removed]"
          },
          "metadata": {
            "needs_background": "light"
          }
        }
      ],
      "source": [
        "scatter_matrix(dataset)\n",
        "pyplot.show()"
      ]
    },
    {
      "cell_type": "markdown",
      "metadata": {
        "id": "9qOdwCd5mZSJ"
      },
      "source": [
        "# Ewaluacja wybranego algorytmu ML"
      ]
    },
    {
      "cell_type": "markdown",
      "metadata": {
        "id": "XFdAKsjimZSJ"
      },
      "source": [
        "Na potrzeby klasyfikacji irysów zdecydowano się wykorzystać model ML bazujący ba regresji logistycznej. W procesie uczenia wykrozystamy dwa zbiory danych - treningowy oraz testowy z podziałem 20%/80%."
      ]
    },
    {
      "cell_type": "markdown",
      "metadata": {
        "id": "ttqKWZSnmZSK"
      },
      "source": [
        "Stwórz dwie tablice:\n",
        " - X składającą się z 4 kolumn - cechy wejściowe\n",
        " - Y składającą się z 1 kolumny - etykiety klasy dla zbioru uczącego"
      ]
    },
    {
      "cell_type": "code",
      "execution_count": 34,
      "metadata": {
        "id": "FkWz3GQJmZSK"
      },
      "outputs": [],
      "source": [
        "array = dataset.values\n",
        "X = array[:, :4]\n",
        "Y = array[:, 4:]"
      ]
    },
    {
      "cell_type": "markdown",
      "metadata": {
        "id": "SVeMjlnZmZSK"
      },
      "source": [
        "Wypisz tablice aby sprawdzić ich poprawność."
      ]
    },
    {
      "cell_type": "code",
      "execution_count": null,
      "metadata": {
        "scrolled": false,
        "id": "aErZ1oJrmZSL"
      },
      "outputs": [],
      "source": [
        "print(X.shape)\n",
        "print(X)\n",
        "\n",
        "print(Y.shape)\n",
        "print(Y)"
      ]
    },
    {
      "cell_type": "markdown",
      "metadata": {
        "id": "wW3WmNSimZSL"
      },
      "source": [
        "Stwórz zbiór uczący i testowy z podziałem 80%/20%."
      ]
    },
    {
      "cell_type": "code",
      "execution_count": 62,
      "metadata": {
        "id": "Lbg5I-yGmZSL",
        "colab": {
          "base_uri": "https://localhost:8080/"
        },
        "outputId": "6d6279e9-a1d6-4e63-c463-58ed28dd9a3d"
      },
      "outputs": [
        {
          "output_type": "stream",
          "name": "stdout",
          "text": [
            "[['Virginica']\n",
            " ['Versicolor']\n",
            " ['Setosa']\n",
            " ['Virginica']\n",
            " ['Setosa']\n",
            " ['Virginica']\n",
            " ['Versicolor']\n",
            " ['Virginica']\n",
            " ['Virginica']\n",
            " ['Setosa']\n",
            " ['Virginica']\n",
            " ['Versicolor']\n",
            " ['Versicolor']\n",
            " ['Versicolor']\n",
            " ['Setosa']\n",
            " ['Virginica']\n",
            " ['Versicolor']\n",
            " ['Virginica']\n",
            " ['Virginica']\n",
            " ['Versicolor']\n",
            " ['Virginica']\n",
            " ['Virginica']\n",
            " ['Setosa']\n",
            " ['Virginica']\n",
            " ['Virginica']\n",
            " ['Virginica']\n",
            " ['Versicolor']\n",
            " ['Versicolor']\n",
            " ['Setosa']\n",
            " ['Setosa']\n",
            " ['Versicolor']\n",
            " ['Virginica']\n",
            " ['Versicolor']\n",
            " ['Virginica']\n",
            " ['Setosa']\n",
            " ['Setosa']\n",
            " ['Versicolor']\n",
            " ['Versicolor']\n",
            " ['Setosa']\n",
            " ['Virginica']\n",
            " ['Versicolor']\n",
            " ['Versicolor']\n",
            " ['Setosa']\n",
            " ['Setosa']\n",
            " ['Versicolor']\n",
            " ['Versicolor']\n",
            " ['Virginica']\n",
            " ['Versicolor']\n",
            " ['Virginica']\n",
            " ['Setosa']\n",
            " ['Virginica']\n",
            " ['Versicolor']\n",
            " ['Virginica']\n",
            " ['Setosa']\n",
            " ['Versicolor']\n",
            " ['Setosa']\n",
            " ['Versicolor']\n",
            " ['Versicolor']\n",
            " ['Virginica']\n",
            " ['Setosa']\n",
            " ['Virginica']\n",
            " ['Setosa']\n",
            " ['Virginica']\n",
            " ['Setosa']\n",
            " ['Setosa']\n",
            " ['Versicolor']\n",
            " ['Setosa']\n",
            " ['Setosa']\n",
            " ['Setosa']\n",
            " ['Versicolor']\n",
            " ['Virginica']\n",
            " ['Versicolor']\n",
            " ['Virginica']\n",
            " ['Setosa']\n",
            " ['Versicolor']\n",
            " ['Setosa']\n",
            " ['Setosa']\n",
            " ['Virginica']\n",
            " ['Virginica']\n",
            " ['Versicolor']\n",
            " ['Versicolor']\n",
            " ['Virginica']\n",
            " ['Setosa']\n",
            " ['Versicolor']\n",
            " ['Setosa']\n",
            " ['Versicolor']\n",
            " ['Setosa']\n",
            " ['Setosa']\n",
            " ['Setosa']\n",
            " ['Versicolor']\n",
            " ['Setosa']\n",
            " ['Versicolor']\n",
            " ['Virginica']\n",
            " ['Virginica']\n",
            " ['Setosa']\n",
            " ['Setosa']\n",
            " ['Versicolor']\n",
            " ['Versicolor']\n",
            " ['Setosa']\n",
            " ['Setosa']\n",
            " ['Virginica']\n",
            " ['Setosa']\n",
            " ['Setosa']\n",
            " ['Virginica']\n",
            " ['Versicolor']\n",
            " ['Setosa']\n",
            " ['Virginica']\n",
            " ['Versicolor']\n",
            " ['Versicolor']\n",
            " ['Virginica']\n",
            " ['Versicolor']\n",
            " ['Setosa']\n",
            " ['Versicolor']\n",
            " ['Virginica']\n",
            " ['Virginica']\n",
            " ['Versicolor']\n",
            " ['Virginica']\n",
            " ['Virginica']\n",
            " ['Setosa']\n",
            " ['Virginica']] [['Virginica']\n",
            " ['Versicolor']\n",
            " ['Virginica']\n",
            " ['Setosa']\n",
            " ['Setosa']\n",
            " ['Setosa']\n",
            " ['Setosa']\n",
            " ['Virginica']\n",
            " ['Versicolor']\n",
            " ['Virginica']\n",
            " ['Setosa']\n",
            " ['Setosa']\n",
            " ['Versicolor']\n",
            " ['Virginica']\n",
            " ['Setosa']\n",
            " ['Versicolor']\n",
            " ['Virginica']\n",
            " ['Virginica']\n",
            " ['Versicolor']\n",
            " ['Versicolor']\n",
            " ['Virginica']\n",
            " ['Virginica']\n",
            " ['Versicolor']\n",
            " ['Versicolor']\n",
            " ['Setosa']\n",
            " ['Versicolor']\n",
            " ['Virginica']\n",
            " ['Versicolor']\n",
            " ['Setosa']\n",
            " ['Setosa']]\n",
            "(array(['Setosa', 'Versicolor', 'Virginica'], dtype=object), array([40, 40, 40]))\n"
          ]
        }
      ],
      "source": [
        "validation_size = 0.20\n",
        "seed = 7\n",
        "\n",
        "X_train, X_test, Y_train, Y_test = train_test_split(X, Y, test_size=validation_size, stratify=Y)\n",
        "print(Y_train, Y_test)\n",
        "print(np.unique(Y_train, return_counts=True))\n"
      ]
    },
    {
      "cell_type": "markdown",
      "metadata": {
        "id": "SQrUEmu1mZSL"
      },
      "source": [
        "Naucz model, a następnie sprawdź jego skuteczność."
      ]
    },
    {
      "cell_type": "code",
      "execution_count": 63,
      "metadata": {
        "id": "coh_HvHkmZSL",
        "colab": {
          "base_uri": "https://localhost:8080/"
        },
        "outputId": "85e49873-aa7f-433f-d706-3b634f5fc899"
      },
      "outputs": [
        {
          "output_type": "stream",
          "name": "stdout",
          "text": [
            "0.9666666666666667\n",
            "[[10  0  0]\n",
            " [ 0  9  1]\n",
            " [ 0  0 10]]\n",
            "              precision    recall  f1-score   support\n",
            "\n",
            "      Setosa       1.00      1.00      1.00        10\n",
            "  Versicolor       1.00      0.90      0.95        10\n",
            "   Virginica       0.91      1.00      0.95        10\n",
            "\n",
            "    accuracy                           0.97        30\n",
            "   macro avg       0.97      0.97      0.97        30\n",
            "weighted avg       0.97      0.97      0.97        30\n",
            "\n"
          ]
        },
        {
          "output_type": "stream",
          "name": "stderr",
          "text": [
            "/usr/local/lib/python3.7/dist-packages/sklearn/utils/validation.py:993: DataConversionWarning: A column-vector y was passed when a 1d array was expected. Please change the shape of y to (n_samples, ), for example using ravel().\n",
            "  y = column_or_1d(y, warn=True)\n"
          ]
        }
      ],
      "source": [
        "klr = LogisticRegression(max_iter=2000)\n",
        "klr.fit(X_train, Y_train)\n",
        "predictions = klr.predict(X_test)\n",
        "\n",
        "print(accuracy_score(Y_test, predictions))\n",
        "print(confusion_matrix(Y_test, predictions))\n",
        "print(classification_report(Y_test, predictions))"
      ]
    },
    {
      "cell_type": "markdown",
      "metadata": {
        "id": "9KQfi33qmZSL"
      },
      "source": [
        "# Wybór najlepszego algorytmu ML dla zadanego problemu"
      ]
    },
    {
      "cell_type": "markdown",
      "metadata": {
        "id": "Yd1R65kkmZSL"
      },
      "source": [
        "Sprawdź skuteczność innych modeli ML w problemie klasyfikacji Irysów. Jako miarę jakości klasyfikacji wybierz _accuracy_score_. Wyniki skuteczności ich działania przedstaw na wykresie.\n",
        "\n",
        "Przeanalizuj metody:\n",
        "- LogisticRegression()\n",
        "- KNeighborsClassifier()\n",
        "- DecisionTreeClassifier()\n",
        "- SVC()\n",
        "- GaussianNB()\n",
        "\n",
        "Lista dostępnych algorytmów w bibliotece _scikit-learn_:\n",
        "https://scikit-learn.org/stable/modules/multiclass.html#multiclass\n",
        "\n",
        "Dla wybranej metody wylicz wskaźniki jakościowe dotyczące predykcji."
      ]
    },
    {
      "cell_type": "code",
      "execution_count": 64,
      "metadata": {
        "id": "636bMuBJmZSL",
        "colab": {
          "base_uri": "https://localhost:8080/"
        },
        "outputId": "395a5926-dd1c-4a4a-c5fc-ff9a87483694"
      },
      "outputs": [
        {
          "output_type": "stream",
          "name": "stdout",
          "text": [
            "[0.9666666666666667, 0.9666666666666667, 0.9666666666666667, 0.9333333333333333, 1.0]\n"
          ]
        },
        {
          "output_type": "stream",
          "name": "stderr",
          "text": [
            "/usr/local/lib/python3.7/dist-packages/sklearn/utils/validation.py:993: DataConversionWarning: A column-vector y was passed when a 1d array was expected. Please change the shape of y to (n_samples, ), for example using ravel().\n",
            "  y = column_or_1d(y, warn=True)\n",
            "/usr/local/lib/python3.7/dist-packages/sklearn/neighbors/_classification.py:198: DataConversionWarning: A column-vector y was passed when a 1d array was expected. Please change the shape of y to (n_samples,), for example using ravel().\n",
            "  return self._fit(X, y)\n",
            "/usr/local/lib/python3.7/dist-packages/sklearn/utils/validation.py:993: DataConversionWarning: A column-vector y was passed when a 1d array was expected. Please change the shape of y to (n_samples, ), for example using ravel().\n",
            "  y = column_or_1d(y, warn=True)\n",
            "/usr/local/lib/python3.7/dist-packages/sklearn/utils/validation.py:993: DataConversionWarning: A column-vector y was passed when a 1d array was expected. Please change the shape of y to (n_samples, ), for example using ravel().\n",
            "  y = column_or_1d(y, warn=True)\n"
          ]
        }
      ],
      "source": [
        "names = ['LogisticRegression', 'KNeighborsClassifier', 'DecisionTreeClassifier', 'SVC', 'GaussianNB']\n",
        "results = []\n",
        "\n",
        "#TODO zaimplementuj uczenie i ocenianie wybranych algorytmów\n",
        "klr = LogisticRegression(max_iter=2000)\n",
        "klr.fit(X_train, Y_train)\n",
        "predictions = klr.predict(X_test)\n",
        "\n",
        "results.append(accuracy_score(Y_test, predictions))\n",
        "\n",
        "knn = KNeighborsClassifier()\n",
        "knn.fit(X_train, Y_train)\n",
        "knn.predict(X_test)\n",
        "predictions = knn.predict(X_test)\n",
        "\n",
        "results.append(accuracy_score(Y_test, predictions))\n",
        "\n",
        "dtc = DecisionTreeClassifier()\n",
        "dtc.fit(X_train, Y_train)\n",
        "dtc.predict(X_test)\n",
        "predictions = dtc.predict(X_test)\n",
        "\n",
        "results.append(accuracy_score(Y_test, predictions))\n",
        "\n",
        "svc = SVC()\n",
        "svc.fit(X_train, Y_train)\n",
        "svc.predict(X_test)\n",
        "predictions = svc.predict(X_test)\n",
        "\n",
        "results.append(accuracy_score(Y_test, predictions))\n",
        "\n",
        "gauss = GaussianNB()\n",
        "gauss.fit(X_train, Y_train)\n",
        "gauss.predict(X_test)\n",
        "predictions = gauss.predict(X_test)\n",
        "results.append(accuracy_score(Y_test, predictions))\n",
        "\n",
        "\n",
        "\n",
        "#TODO wyniki zawrzyj w tablicach names i results\n",
        "print(results)\n"
      ]
    },
    {
      "cell_type": "code",
      "execution_count": 65,
      "metadata": {
        "id": "5lN75T8pmZSM",
        "colab": {
          "base_uri": "https://localhost:8080/"
        },
        "outputId": "067196bc-b47e-4439-8a27-eba003b6c24b"
      },
      "outputs": [
        {
          "output_type": "stream",
          "name": "stdout",
          "text": [
            "['LogisticRegression', 'KNeighborsClassifier', 'DecisionTreeClassifier', 'SVC', 'GaussianNB']\n",
            "[0.9666666666666667, 0.9666666666666667, 0.9666666666666667, 0.9333333333333333, 1.0]\n"
          ]
        }
      ],
      "source": [
        "print(names)\n",
        "print(results)"
      ]
    },
    {
      "cell_type": "code",
      "execution_count": 72,
      "metadata": {
        "id": "y8gw9kRMmZSN",
        "colab": {
          "base_uri": "https://localhost:8080/"
        },
        "outputId": "cbea2a6b-44e5-4a19-ff2a-01c5edd35394"
      },
      "outputs": [
        {
          "output_type": "execute_result",
          "data": {
            "text/plain": [
              "<BarContainer object of 5 artists>"
            ]
          },
          "metadata": {},
          "execution_count": 72
        },
        {
          "output_type": "display_data",
          "data": {
            "text/plain": [
              "<Figure size 432x288 with 1 Axes>"
            ],
            "image/png": "[encoded data removed]"
          },
          "metadata": {
            "needs_background": "light"
          }
        }
      ],
      "source": [
        "pyplot.bar(names,results)\n"
      ]
    },
    {
      "cell_type": "markdown",
      "metadata": {
        "id": "QIm8XFFqmZSN"
      },
      "source": [
        "Policz skuteczność najlepszego modelu."
      ]
    },
    {
      "cell_type": "code",
      "execution_count": 73,
      "metadata": {
        "id": "X7F575ZPmZSN",
        "colab": {
          "base_uri": "https://localhost:8080/"
        },
        "outputId": "3e30c4d6-222a-4fd3-edd8-668d00b4216d"
      },
      "outputs": [
        {
          "output_type": "stream",
          "name": "stdout",
          "text": [
            "1.0\n",
            "[[10  0  0]\n",
            " [ 0 10  0]\n",
            " [ 0  0 10]]\n",
            "              precision    recall  f1-score   support\n",
            "\n",
            "      Setosa       1.00      1.00      1.00        10\n",
            "  Versicolor       1.00      1.00      1.00        10\n",
            "   Virginica       1.00      1.00      1.00        10\n",
            "\n",
            "    accuracy                           1.00        30\n",
            "   macro avg       1.00      1.00      1.00        30\n",
            "weighted avg       1.00      1.00      1.00        30\n",
            "\n"
          ]
        },
        {
          "output_type": "stream",
          "name": "stderr",
          "text": [
            "/usr/local/lib/python3.7/dist-packages/sklearn/utils/validation.py:993: DataConversionWarning: A column-vector y was passed when a 1d array was expected. Please change the shape of y to (n_samples, ), for example using ravel().\n",
            "  y = column_or_1d(y, warn=True)\n"
          ]
        }
      ],
      "source": [
        "gauss = GaussianNB()\n",
        "gauss.fit(X_train, Y_train)\n",
        "gauss.predict(X_test)\n",
        "predictions = gauss.predict(X_test)\n",
        "results.append(accuracy_score(Y_test, predictions))\n",
        "\n",
        "#TODO accuracy_score\n",
        "#TODO confusion_matrix\n",
        "#TODO classification_report\n",
        "\n",
        "print(accuracy_score(Y_test, predictions))\n",
        "print(confusion_matrix(Y_test, predictions))\n",
        "print(classification_report(Y_test, predictions))\n"
      ]
    },
    {
      "cell_type": "markdown",
      "metadata": {
        "id": "hUb4iM7_mZSN"
      },
      "source": [
        "# Podsumowanie\n",
        "\n",
        "**TODO** jaki problem ML występował w zadaniu?\n",
        "\n",
        "Klasyfikacja kwiatów na podstawie cech takich jak: sepal - (width, heigth),\n",
        "petal - (width, heigth). Na podstawie tych danych model ma klasyfikować rodzaj kwaiatu na danych których wcześniej nie widział.\n",
        "\n",
        "Dane testowe rozkladały się nie równomieniernie. Za pomocą paramteru stratify dla metody train_test_split rozkład w danych uczących jest równomiernny. \n",
        "\n",
        "**TODO** jak się rozkłada liczność klas wynikowych\n",
        "\n",
        "variety:\\\n",
        "Setosa        50\\\n",
        "Versicolor    50\\\n",
        "Virginica     50\n",
        "\n",
        "\n",
        "**TODO** jakie algorytmu ML były rozważane?\\\n",
        "- 'LogisticRegression', \n",
        "- 'KNeighborsClassifier',\n",
        "- 'DecisionTreeClassifier', \n",
        "- 'SVC', \n",
        "- 'GaussianNB'\n",
        "\n",
        "**TODO** który z algorytmów cechował się najwyższą skutecznością?\n",
        "\n",
        "GaussianNB - na danych testowych osiągnął wynik 100%. \n",
        "\n"
      ]
    },
    {
      "cell_type": "code",
      "source": [
        ""
      ],
      "metadata": {
        "id": "VG5ilN66zs4r"
      },
      "execution_count": null,
      "outputs": []
    }
  ],
  "metadata": {
    "kernelspec": {
      "display_name": "Python 3",
      "language": "python",
      "name": "python3"
    },
    "language_info": {
      "codemirror_mode": {
        "name": "ipython",
        "version": 3
      },
      "file_extension": ".py",
      "mimetype": "text/x-python",
      "name": "python",
      "nbconvert_exporter": "python",
      "pygments_lexer": "ipython3",
      "version": "3.6.8"
    },
    "colab": {
      "name": "Lab0-student.ipynb",
      "provenance": [],
      "collapsed_sections": []
    }
  },
  "nbformat": 4,
  "nbformat_minor": 0
}
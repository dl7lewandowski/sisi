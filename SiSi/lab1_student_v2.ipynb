{
  "cells": [
    {
      "cell_type": "markdown",
      "metadata": {
        "id": "21HR8QHLUW6H"
      },
      "source": [
        "# LAB1 - Regresja"
      ]
    },
    {
      "cell_type": "markdown",
      "metadata": {
        "id": "xBXkhYUQUW6J"
      },
      "source": [
        "Przedmiot: _Sztuczna Inteligencja w Systemach Informatycznych_\n",
        "\n",
        "Autor: Tomasz Szydło\n",
        "\n",
        "kontakt: tszydlo@agh.edu.pl\n"
      ]
    },
    {
      "cell_type": "markdown",
      "metadata": {
        "id": "eKjihE45UW6K"
      },
      "source": [
        "_wersja dokumentu uzupełniana przez studenta_"
      ]
    },
    {
      "cell_type": "markdown",
      "metadata": {
        "id": "DEGa6w-kUW6K"
      },
      "source": [
        "# Wprowadzenie\n",
        "\n",
        "Regresja liniowa w modelowaniu statystycznym odnosi się do metod opartych o liniowe kombinacje zmiennych i parametrów dopasowujących model do danych. Dopasowana linia lub krzywa regresji reprezentuje oszacowaną wartość oczekiwaną zmiennej y przy konkretnych wartościach innej zmiennej lub zmiennych x. W najprostszym przypadku dopasowana jest stała lub funkcja liniowa.\n",
        "\n",
        "Celem zajęć jest identyfikacja modelu regresji dla problemu czasu obliczeń złożonych operacji matematycznych na CPU. Czas obliczeń zależy głównie od mocy obliczeniowej procesora.\n",
        "\n",
        "Środowisko pracy: Anaconda, Jupyter Notebook\n",
        "\n",
        "Narzędzia: Scikit Learn, Python"
      ]
    },
    {
      "cell_type": "markdown",
      "metadata": {
        "id": "oDUUUOzRUW6L"
      },
      "source": [
        "# Regresja - przykład\n",
        "\n",
        "Sposób identyfikacji modelu regresji z wykorzystaniem narzędzi programistycznych przedstawia przykład dla danych dotyczacych cukrzycy:\n",
        "\n",
        "https://archive.ics.uci.edu/ml/datasets/diabetes\n",
        "\n",
        "```\n",
        "Source:\n",
        "\n",
        "Michael Kahn, MD, PhD, Washington University, St. Louis, MO\n",
        "\n",
        "Data Set Information:\n",
        "\n",
        "Diabetes patient records were obtained from two sources: an automatic electronic recording device and paper records. The automatic device had an internal clock to timestamp events, whereas the paper records only provided \"logical time\" slots (breakfast, lunch, dinner, bedtime). For paper records, fixed times were assigned to breakfast (08:00), lunch (12:00), dinner (18:00), and bedtime (22:00). Thus paper records have fictitious uniform recording times whereas electronic records have more realistic time stamps.\n",
        "\n",
        "Diabetes files consist of four fields per record. Each field is separated by a tab and each record is separated by a newline.\n",
        "\n",
        "File Names and format:\n",
        " * (1) Date in MM-DD-YYYY format\n",
        " * (2) Time in XX:YY format\n",
        " * (3) Code\n",
        " * (4) Value\n",
        "\n",
        "\n",
        "The Code field is deciphered as follows:\n",
        " * 33 = Regular insulin dose\n",
        " * 34 = NPH insulin dose\n",
        " * 35 = UltraLente insulin dose\n",
        " * 48 = Unspecified blood glucose measurement\n",
        " * 57 = Unspecified blood glucose measurement\n",
        " * 58 = Pre-breakfast blood glucose measurement\n",
        " * 59 = Post-breakfast blood glucose measurement\n",
        " * 60 = Pre-lunch blood glucose measurement\n",
        " * 61 = Post-lunch blood glucose measurement\n",
        " * 62 = Pre-supper blood glucose measurement\n",
        " * 63 = Post-supper blood glucose measurement\n",
        " * 64 = Pre-snack blood glucose measurement\n",
        " * 65 = Hypoglycemic symptoms\n",
        " * 66 = Typical meal ingestion\n",
        " * 67 = More-than-usual meal ingestion\n",
        " * 68 = Less-than-usual meal ingestion\n",
        " * 69 = Typical exercise activity\n",
        " * 70 = More-than-usual exercise activity\n",
        " * 71 = Less-than-usual exercise activity\n",
        " * 72 = Unspecified special event\n",
        "```\n",
        "\n",
        "W przykładzie zastosowano pierwszą cechę zestawu danych dotyczących cukrzycy, aby zilustrować metodę regresji. Końcowy wykres zawierał będzie zarówno dane źródłowe jak i wykres funkcji liniowej zidentyfikowanej za pomocą regresji. Funkcja liniowa przedstawia zależność pomiędzy danymi wejściowymi a wyjściowymi minimalizując sumę kwadratów pomiędzy poszczególnymi parami punktów.\n",
        "\n",
        "\n",
        "Obliczane są również współczynniki oraz błąd modelu."
      ]
    },
    {
      "cell_type": "code",
      "execution_count": 13,
      "metadata": {
        "id": "Up3A7XHcUW6M"
      },
      "outputs": [],
      "source": [
        "import matplotlib.pyplot as plt\n",
        "import numpy as np\n",
        "from sklearn import datasets, linear_model\n",
        "from sklearn.metrics import mean_squared_error, r2_score\n"
      ]
    },
    {
      "cell_type": "code",
      "execution_count": 14,
      "metadata": {
        "id": "MaWiVtmvUW6N"
      },
      "outputs": [],
      "source": [
        "# Load the diabetes dataset\n",
        "diabetes = datasets.load_diabetes()"
      ]
    },
    {
      "cell_type": "code",
      "execution_count": 15,
      "metadata": {
        "id": "pVgMZt21UW6O"
      },
      "outputs": [],
      "source": [
        "# Use only one feature\n",
        "diabetes_X = diabetes.data[:, np.newaxis, 2]\n",
        "\n",
        "# Split the data into training/testing sets\n",
        "diabetes_X_train = diabetes_X[:-20]\n",
        "diabetes_X_test = diabetes_X[-20:]\n",
        "\n",
        "# Split the targets into training/testing sets\n",
        "diabetes_y_train = diabetes.target[:-20]\n",
        "diabetes_y_test = diabetes.target[-20:]"
      ]
    },
    {
      "cell_type": "code",
      "execution_count": 16,
      "metadata": {
        "colab": {
          "base_uri": "https://localhost:8080/",
          "height": 0
        },
        "id": "wBbmjSUpUW6O",
        "outputId": "69de0573-9072-4a9a-a306-65a572943193"
      },
      "outputs": [
        {
          "output_type": "execute_result",
          "data": {
            "text/plain": [
              "LinearRegression()"
            ]
          },
          "metadata": {},
          "execution_count": 16
        }
      ],
      "source": [
        "# Create linear regression object\n",
        "regr = linear_model.LinearRegression()\n",
        "\n",
        "# Train the model using the training sets\n",
        "regr.fit(diabetes_X_train, diabetes_y_train)\n"
      ]
    },
    {
      "cell_type": "code",
      "execution_count": 17,
      "metadata": {
        "colab": {
          "base_uri": "https://localhost:8080/",
          "height": 0
        },
        "id": "ZtTnx64RUW6P",
        "outputId": "a8e5934e-7d74-4f8e-a955-60f8cbb85ef6"
      },
      "outputs": [
        {
          "output_type": "stream",
          "name": "stdout",
          "text": [
            "Coefficients: \n",
            " [938.23786125]\n",
            "Intercept: \n",
            " 152.91886182616167\n",
            "Mean squared error: 2548.07\n",
            "Variance score: 0.47\n"
          ]
        }
      ],
      "source": [
        "# Make predictions using the testing set\n",
        "diabetes_y_pred = regr.predict(diabetes_X_test)\n",
        "\n",
        "# The coefficients\n",
        "print('Coefficients: \\n', regr.coef_)\n",
        "print('Intercept: \\n', regr.intercept_)\n",
        "# The mean squared error\n",
        "print(\"Mean squared error: %.2f\"\n",
        "      % mean_squared_error(diabetes_y_test, diabetes_y_pred))\n",
        "# Explained variance score: 1 is perfect prediction\n",
        "print('Variance score: %.2f' % r2_score(diabetes_y_test, diabetes_y_pred))"
      ]
    },
    {
      "cell_type": "code",
      "execution_count": 18,
      "metadata": {
        "colab": {
          "base_uri": "https://localhost:8080/",
          "height": 265
        },
        "id": "HsTNfiShUW6Q",
        "outputId": "603217d5-dc68-41df-beba-271cfbc4c74f"
      },
      "outputs": [
        {
          "output_type": "display_data",
          "data": {
            "text/plain": [
              "<Figure size 432x288 with 1 Axes>"
            ],
            "image/png": "[encoded data removed]"
          },
          "metadata": {
            "needs_background": "light"
          }
        }
      ],
      "source": [
        "# Plot outputs\n",
        "plt.scatter(diabetes_X_test, diabetes_y_test,  color='black')\n",
        "plt.plot(diabetes_X_test, diabetes_y_pred, color='blue', linewidth=3)\n",
        "\n",
        "#plt.xticks(())\n",
        "#plt.yticks(())\n",
        "\n",
        "plt.show()"
      ]
    },
    {
      "cell_type": "markdown",
      "metadata": {
        "id": "ASN46lDNUW6Q"
      },
      "source": [
        "## Regresja - przewidywanie czasu wykonania operacji\n",
        "\n",
        "W systemie komputerowym istnieją dwa procesy obliczeniowe: io\\_heavy oraz cpu\\_heavy charakteryzujące się tym, że w pierszym przypadku czas wykonania jest głównie zależny od dostępu do urządzeń IO, a w drugim przypadku od szybkości procesora."
      ]
    },
    {
      "cell_type": "code",
      "execution_count": 36,
      "metadata": {
        "id": "GYKfpzvjUW6R"
      },
      "outputs": [],
      "source": [
        "import random\n",
        "import string\n",
        "import time\n",
        "\n",
        "def io_heavy(text):\n",
        "    f = open('temp_file.txt', 'wt', encoding='utf-8')\n",
        "    f.write(text)\n",
        "    f.close()\n",
        "    return\n",
        "\n",
        "def cpu_heavy(n):\n",
        "    start = time.time()\n",
        "    count = 0\n",
        "    for i in range(n):\n",
        "        count += i\n",
        "    stop = time.time()\n",
        "    return\n",
        "\n",
        "def run_series_cpu(n, iterations=10):\n",
        "    start = time.time()\n",
        "    for i in range(iterations):\n",
        "        cpu_heavy(n)\n",
        "    stop = time.time()\n",
        "    \n",
        "    return stop - start\n",
        "\n",
        "def run_series(text_size, iterations=10):\n",
        "    TEXT = ''.join(random.choice(string.ascii_lowercase) for i in range(text_size))\n",
        "    \n",
        "    start = time.time()\n",
        "    for i in range(iterations):\n",
        "        io_heavy(TEXT)\n",
        "    stop = time.time()\n",
        "    \n",
        "    return stop - start"
      ]
    },
    {
      "cell_type": "markdown",
      "metadata": {
        "id": "0VHjJsSlUW6R"
      },
      "source": [
        "Czas obliczeń operacji jest ściśle zależny od mocy obliczeniowej komputera, na którym są one wykonywane."
      ]
    },
    {
      "cell_type": "markdown",
      "metadata": {
        "id": "km7ybKOdUW6R"
      },
      "source": [
        "**TODO** _Opisz specyfikację komputera na którym prowadzone są testy._\\\n",
        "Google colab\\\n",
        "Hardware accelerator: None "
      ]
    },
    {
      "cell_type": "markdown",
      "metadata": {
        "id": "MiFySrhMUW6R"
      },
      "source": [
        "Uzupełnij poniższy kod tak by zebrać czasy wykonania operacji *cpu\\_heavy* dla różnych n. Wyniki powinny być zapisane w tablicach *training_x* oraz *training_y*.\n",
        "\n",
        "Korzystamy z funkcji *run\\_series\\_cpu(n)*.\n",
        "\n",
        "TRAINING_N - ilość danych uczących; długość tablic *training_x* oraz *training_y*.\n"
      ]
    },
    {
      "cell_type": "code",
      "execution_count": 37,
      "metadata": {
        "id": "W_kZpK1QUW6S"
      },
      "outputs": [],
      "source": [
        "CPU_MAX_N = 1000000\n",
        "\n",
        "TRAINING_N = 50\n",
        "\n",
        "training_X = []\n",
        "training_y = []\n",
        "\n",
        "\n",
        "for i in range(TRAINING_N):\n",
        "    CPU_N = random.randrange(CPU_MAX_N)\n",
        "    training_X.append(CPU_N)\n",
        "    training_y.append(run_series_cpu(CPU_N, iterations=10))\n",
        "    \n"
      ]
    },
    {
      "cell_type": "markdown",
      "metadata": {
        "id": "Git0rie_UW6S"
      },
      "source": [
        "Przedstaw wykres zależności pomiędzy ilością iteracji obliczeń a czasem wykonania operacji *run\\_series\\_cpu*."
      ]
    },
    {
      "cell_type": "code",
      "source": [
        "plt.scatter(training_X, training_y) \n",
        "plt.show()"
      ],
      "metadata": {
        "colab": {
          "base_uri": "https://localhost:8080/",
          "height": 278
        },
        "id": "jVRP6KwmW2Yt",
        "outputId": "9cd975d1-42f2-403d-ac8f-561bf104c4a7"
      },
      "execution_count": 55,
      "outputs": [
        {
          "output_type": "display_data",
          "data": {
            "text/plain": [
              "<Figure size 432x288 with 1 Axes>"
            ],
            "image/png": "[encoded data removed]"
          },
          "metadata": {
            "needs_background": "light"
          }
        }
      ]
    },
    {
      "cell_type": "markdown",
      "metadata": {
        "id": "K2q6_0ZtUW6S"
      },
      "source": [
        "Naucz model regresji na danych treningowych."
      ]
    },
    {
      "cell_type": "code",
      "execution_count": 56,
      "metadata": {
        "colab": {
          "base_uri": "https://localhost:8080/",
          "height": 0
        },
        "id": "l4nATu4ZUW6S",
        "outputId": "dfe5f02a-6ebc-4b0e-9912-ca9b48452496"
      },
      "outputs": [
        {
          "output_type": "execute_result",
          "data": {
            "text/plain": [
              "LinearRegression()"
            ]
          },
          "metadata": {},
          "execution_count": 56
        }
      ],
      "source": [
        "# from numpy.ma.core import reshape\n",
        "# Create linear regression object\n",
        "regr = linear_model.LinearRegression()\n",
        "training_X = np.array(training_X).reshape(-1,1) \n",
        "training_y = np.array(training_y).reshape(-1,1)  \n",
        "\n",
        "# Train the model using the training sets\n",
        "regr.fit(training_X, training_y) # \n"
      ]
    },
    {
      "cell_type": "code",
      "source": [
        "# Make predictions using the testing set\n",
        "training_y_pred = regr.predict(training_X)\n",
        "\n",
        "# The coefficients\n",
        "print('Coefficients: \\n', regr.coef_)\n",
        "print('Intercept: \\n', regr.intercept_)\n",
        "# The mean squared error\n",
        "print(\"Mean squared error: %.2f\"\n",
        "      % mean_squared_error(training_y, training_y_pred))\n",
        "# Explained variance score: 1 is perfect prediction\n",
        "print('Variance score: %.2f' % r2_score(training_y, training_y_pred))\n",
        "\n",
        "\n",
        "plt.scatter(training_X, training_y, c='red')\n",
        "plt.plot(training_X ,training_y_pred)\n",
        "\n",
        "plt.show()\n"
      ],
      "metadata": {
        "colab": {
          "base_uri": "https://localhost:8080/",
          "height": 382
        },
        "id": "0NwxPUVGYwiN",
        "outputId": "8a836992-2fee-403b-a2dc-eece16d28124"
      },
      "execution_count": 54,
      "outputs": [
        {
          "output_type": "stream",
          "name": "stdout",
          "text": [
            "Coefficients: \n",
            " [[6.13131746e-07]]\n",
            "Intercept: \n",
            " [-0.00316145]\n",
            "Mean squared error: 0.00\n",
            "Variance score: 1.00\n"
          ]
        },
        {
          "output_type": "display_data",
          "data": {
            "text/plain": [
              "<Figure size 432x288 with 1 Axes>"
            ],
            "image/png": "[encoded data removed]"
          },
          "metadata": {
            "needs_background": "light"
          }
        }
      ]
    },
    {
      "cell_type": "markdown",
      "metadata": {
        "id": "o54GFlSNUW6T"
      },
      "source": [
        "Wypisz szczegóły nauczonego modelu regresji, a następnie przedstaw na wykresie zidentyfikowana funkcję liniową odzwierciedlającą zależności w danych."
      ]
    },
    {
      "cell_type": "markdown",
      "metadata": {
        "id": "Ddj6fcgvUW6T"
      },
      "source": [
        "Na podstawie opracowanego modelu zaimplementuj funkcję szacującą czas działania procesu *cpu intensive*."
      ]
    },
    {
      "cell_type": "code",
      "execution_count": 42,
      "metadata": {
        "id": "6_3tuyEuUW6T"
      },
      "outputs": [],
      "source": [
        "#testing data\n",
        "\n",
        "def run_series_cpu_predicted_time(n):\n",
        "    return regr.predict([[n]])[0][0]\n"
      ]
    },
    {
      "cell_type": "markdown",
      "metadata": {
        "id": "2NC9T_lUUW6T"
      },
      "source": [
        "Na podstawie współczynników _coef_ oraz _intercept_  z wyuczonego modelu przedstaw funkcję matematyczną szacującą czas działania procesu *cpu intensive*.\n",
        "\n",
        "Przydatne informacje: https://scikit-learn.org/stable/modules/linear_model.html#linear-model"
      ]
    },
    {
      "cell_type": "code",
      "execution_count": 43,
      "metadata": {
        "id": "nnjyQM0YUW6U",
        "colab": {
          "base_uri": "https://localhost:8080/",
          "height": 0
        },
        "outputId": "e4e9134b-af64-481d-e75f-7ebf86761975"
      },
      "outputs": [
        {
          "output_type": "stream",
          "name": "stdout",
          "text": [
            "Coefficient: \n",
            " 6.131317457765757e-07\n",
            "Intercept: \n",
            " -0.0031614514393459303\n"
          ]
        }
      ],
      "source": [
        "coef = regr.coef_[0][0]\n",
        "intercept = regr.intercept_[0]\n",
        "\n",
        "print('Coefficient: \\n', coef)\n",
        "print('Intercept: \\n', intercept)"
      ]
    },
    {
      "cell_type": "markdown",
      "metadata": {
        "id": "gn8MypO5UW6U"
      },
      "source": [
        "**TODO** Uzupełnij funkcję\n",
        "\n",
        "predicted_time(n) = ... + ...  * n"
      ]
    },
    {
      "cell_type": "code",
      "execution_count": 52,
      "metadata": {
        "id": "YUkTqz3ZUW6U",
        "colab": {
          "base_uri": "https://localhost:8080/",
          "height": 0
        },
        "outputId": "bb0c6cc4-54ab-4549-bf3a-a79fe9dcd43e"
      },
      "outputs": [
        {
          "output_type": "stream",
          "name": "stdout",
          "text": [
            "[-0.00315532]\n"
          ]
        }
      ],
      "source": [
        "def run_series_cpu_predicted_time_linear_function(n):\n",
        "    return regr.coef_[0]*n + regr.intercept_[0]\n"
      ]
    },
    {
      "cell_type": "markdown",
      "metadata": {
        "id": "3lNMObIdUW6U"
      },
      "source": [
        "Wykonaj poniższe operacje i porównaj wyniki."
      ]
    },
    {
      "cell_type": "code",
      "execution_count": 53,
      "metadata": {
        "id": "HoJI8D1DUW6U",
        "colab": {
          "base_uri": "https://localhost:8080/",
          "height": 0
        },
        "outputId": "4209713e-fb38-4557-e476-ea909487efca"
      },
      "outputs": [
        {
          "output_type": "stream",
          "name": "stdout",
          "text": [
            "Test 1:  3.010491371154785  Predicted: 2.4689875869270446  Predicted2: [2.46898759]\n",
            "Test 2:  0.031777381896972656  Predicted: 0.030131602356322125  Predicted2: [0.0301316]\n",
            "Test 3:  0.4719674587249756  Predicted: 0.4661314261732824  Predicted2: [0.46613143]\n",
            "Test 4:  0.04950594902038574  Predicted: 0.04875425287079406  Predicted2: [0.04875425]\n",
            "Test 5:  3.3917829990386963  Predicted: 3.330174656224195  Predicted2: [3.33017466]\n"
          ]
        }
      ],
      "source": [
        "print(\"Test 1: \",run_series_cpu(4032003),\" Predicted:\", run_series_cpu_predicted_time(4032003),\" Predicted2:\", run_series_cpu_predicted_time_linear_function(4032003))\n",
        "print(\"Test 2: \",run_series_cpu(54300),\" Predicted:\", run_series_cpu_predicted_time(54300),\" Predicted2:\", run_series_cpu_predicted_time_linear_function(54300))\n",
        "print(\"Test 3: \",run_series_cpu(765403),\" Predicted:\", run_series_cpu_predicted_time(765403),\" Predicted2:\", run_series_cpu_predicted_time_linear_function(765403))\n",
        "print(\"Test 4: \",run_series_cpu(84673),\" Predicted:\", run_series_cpu_predicted_time(84673),\" Predicted2:\", run_series_cpu_predicted_time_linear_function(84673))\n",
        "print(\"Test 5: \",run_series_cpu(5436574),\" Predicted:\", run_series_cpu_predicted_time(5436574),\" Predicted2:\", run_series_cpu_predicted_time_linear_function(5436574))\n"
      ]
    },
    {
      "cell_type": "markdown",
      "metadata": {
        "id": "d3-n-KaJUW6U"
      },
      "source": [
        "# Przydatne źródła\n",
        "\n",
        "https://github.com/bfortuner/ml-study/blob/master/multitasking_python.ipynb"
      ]
    }
  ],
  "metadata": {
    "kernelspec": {
      "display_name": "Python 3",
      "language": "python",
      "name": "python3"
    },
    "language_info": {
      "codemirror_mode": {
        "name": "ipython",
        "version": 3
      },
      "file_extension": ".py",
      "mimetype": "text/x-python",
      "name": "python",
      "nbconvert_exporter": "python",
      "pygments_lexer": "ipython3",
      "version": "3.6.8"
    },
    "colab": {
      "name": "lab1-student_v2.ipynb",
      "provenance": [],
      "collapsed_sections": []
    }
  },
  "nbformat": 4,
  "nbformat_minor": 0
}
{
  "nbformat": 4,
  "nbformat_minor": 0,
  "metadata": {
    "kernelspec": {
      "name": "python3",
      "display_name": "Python 3"
    },
    "language_info": {
      "codemirror_mode": {
        "name": "ipython",
        "version": 3
      },
      "file_extension": ".py",
      "mimetype": "text/x-python",
      "name": "python",
      "nbconvert_exporter": "python",
      "pygments_lexer": "ipython3",
      "version": "3.7.6"
    },
    "colab": {
      "name": "lab3_student_v6.ipynb",
      "provenance": [],
      "collapsed_sections": []
    },
    "accelerator": "GPU"
  },
  "cells": [
    {
      "cell_type": "markdown",
      "metadata": {
        "id": "fs1IGQZELwru"
      },
      "source": [
        "# LAB3 - Uczenie sieci neuronowych z wykorzystaniem GPU\n",
        "ver: 6"
      ]
    },
    {
      "cell_type": "markdown",
      "metadata": {
        "id": "yS56lpyELwry"
      },
      "source": [
        "Przedmiot: _Sztuczna Inteligencja w Systemach Informatycznych_\n",
        "\n",
        "Autor: Tomasz Szydło\n",
        "\n",
        "kontakt: tszydlo@agh.edu.pl"
      ]
    },
    {
      "cell_type": "markdown",
      "metadata": {
        "id": "AZ_S41L3Lwr6"
      },
      "source": [
        "Celem laboratorium jest porównanie czasu uczenia sieci neuronowych z wykorzystaniem CPU oraz GPU. Przedmiotem uczenia będzie sieć rozpoznająca cyfry pisane odręcznie. W procesie uczenia zostanie wykorzystany zbiór MNIST:\n",
        "\n",
        "http://yann.lecun.com/exdb/mnist/\n",
        "\n",
        "\n",
        "Laboratorium może być zrealizowane w dwóch środowiskach pracy:\n",
        " * Google Colab w chmurze obliczeniowej;\n",
        " * lokalnie na komputerze wyposażonym w GPU.\n"
      ]
    },
    {
      "cell_type": "markdown",
      "metadata": {
        "id": "IpmQdcI4FZ1L"
      },
      "source": [
        "## Środowisko pracy - Google Codelab\n",
        "\n",
        "https://codelabs.developers.google.com/?cat=Machine+Learning\n",
        "\n",
        "Dostęp do notatnika: https://colab.research.google.com\n",
        "\n",
        "Włączenie/wyłączenie wsparcia GPU odbywa się poprzez zmianę opcji środowiska uruchomieniowego:\n",
        " * Runtime -> Change runtime type -> Hardware accelerator -> None/GPU\n"
      ]
    },
    {
      "cell_type": "markdown",
      "metadata": {
        "id": "e1Q7W6I1FsVO"
      },
      "source": [
        "## Środowisko pracy - PC + GPU/CUDA + Anaconda\n",
        "\n",
        "Realizacja laboratorium wymaga Anacondy ze środowiskami:\n",
        " * tensorflow\n",
        " * tensorflow_gpuenv\n",
        " \n",
        "Różnica pomiędzy nimi polega na wykorzystaniu implementacji biblioteki Tensorflow z NVidia CUDA.\n",
        "\n",
        "Tworzenie środowisk:\n",
        " * wersja z CPU:\n",
        "\n",
        "```\n",
        "conda create -n tensorflow_env tensorflow\n",
        "conda activate tensorflow_env\n",
        "```\n",
        "\n",
        " * wersja z GPU:\n",
        "\n",
        "```\n",
        "conda create -n tensorflow_gpuenv tensorflow-gpu\n",
        "conda activate tensorflow_gpuenv\n",
        "```\n",
        "\n",
        "Za pomocą Anaconda Navigator uruchamiamy Jupyter Notebook w konkretnym środowisku - tylko CPU lub ze wsparciem GPU.\n"
      ]
    },
    {
      "cell_type": "markdown",
      "metadata": {
        "id": "F25OBqfZLwsA"
      },
      "source": [
        "## Sieć neuronowa dla zbioru MNIST"
      ]
    },
    {
      "cell_type": "markdown",
      "metadata": {
        "id": "aTQZi3VcLwsC"
      },
      "source": [
        "Przygotowanie środowiska - należy uruchomić notatnik z obliczeniami wyłącznie na CPU."
      ]
    },
    {
      "cell_type": "code",
      "metadata": {
        "id": "Qs9wYVcZNY05"
      },
      "source": [
        "try:\n",
        "  %tensorflow_version 2.x\n",
        "except:\n",
        "  pass"
      ],
      "execution_count": 1,
      "outputs": []
    },
    {
      "cell_type": "code",
      "metadata": {
        "id": "y3MzdLevLwsD"
      },
      "source": [
        "import numpy as np\n",
        "import matplotlib.pyplot as plt\n",
        "import tensorflow\n",
        "\n",
        "from tensorflow.keras.datasets import mnist\n",
        "from tensorflow.keras.models import Sequential\n",
        "from tensorflow.keras.layers import Dense, Dropout, Activation, Flatten, Conv2D, AveragePooling2D\n",
        "from keras.utils import np_utils\n",
        "\n",
        "plt.rcParams['figure.figsize'] = (7,7) # Make the figures a bit bigger"
      ],
      "execution_count": 16,
      "outputs": []
    },
    {
      "cell_type": "code",
      "metadata": {
        "id": "aM1I_zfvxOKD",
        "colab": {
          "base_uri": "https://localhost:8080/"
        },
        "outputId": "cccc2c3e-c142-40e6-ca23-fc1972fa423c"
      },
      "source": [
        "physical_devices = tensorflow.config.list_physical_devices('GPU')\n",
        "print(\"Num GPUs:\", len(physical_devices))"
      ],
      "execution_count": 17,
      "outputs": [
        {
          "output_type": "stream",
          "name": "stdout",
          "text": [
            "Num GPUs: 1\n"
          ]
        }
      ]
    },
    {
      "cell_type": "code",
      "metadata": {
        "id": "6aDH7dBMLwsY",
        "colab": {
          "base_uri": "https://localhost:8080/"
        },
        "outputId": "c9bc4076-e7e6-4161-9b7e-abc42dfacd3a"
      },
      "source": [
        "nb_classes = 10\n",
        "\n",
        "# the data, shuffled and split between tran and test sets\n",
        "(X_train, y_train), (X_test, y_test) = mnist.load_data()\n",
        "print(\"X_train original shape\", X_train.shape)\n",
        "print(\"y_train original shape\", y_train.shape)"
      ],
      "execution_count": 18,
      "outputs": [
        {
          "output_type": "stream",
          "name": "stdout",
          "text": [
            "X_train original shape (60000, 28, 28)\n",
            "y_train original shape (60000,)\n"
          ]
        }
      ]
    },
    {
      "cell_type": "markdown",
      "metadata": {
        "id": "e1Fb4X4sLwsh"
      },
      "source": [
        "Zwizualizuj przykładowe dane."
      ]
    },
    {
      "cell_type": "code",
      "metadata": {
        "id": "q741OgE6Lwsi",
        "colab": {
          "base_uri": "https://localhost:8080/",
          "height": 444
        },
        "outputId": "b573bbb5-315f-44cd-e61e-d8e617bd7045"
      },
      "source": [
        "for i in range(9):\n",
        "    plt.subplot(3,3,i+1)\n",
        "    plt.imshow(X_train[i], cmap='gray', interpolation='none')\n",
        "    plt.title(\"Class {}\".format(y_train[i]))"
      ],
      "execution_count": 19,
      "outputs": [
        {
          "output_type": "display_data",
          "data": {
            "text/plain": [
              "<Figure size 504x504 with 9 Axes>"
            ],
            "image/png": "[encoded data removed]"
          },
          "metadata": {
            "needs_background": "light"
          }
        }
      ]
    },
    {
      "cell_type": "markdown",
      "metadata": {
        "id": "NuFEHgMhLwsp"
      },
      "source": [
        "Sieć neuronowa przyjmuje na wejściu obrazek z jednym kanałem - poziomem jasności, więc konieczne jest przekształcenie danych wejściowych, aby każdy obraz 28 x 28 stał się macierzą 28 x 28 x 1. \n",
        "\n",
        "Skalujemy również dane wejściowe w zakresie [0–1] zamiast [0–255]"
      ]
    },
    {
      "cell_type": "code",
      "metadata": {
        "id": "2XwmB8dSLwsq",
        "colab": {
          "base_uri": "https://localhost:8080/"
        },
        "outputId": "da96a071-5fba-4b39-d25b-9958b2943f85"
      },
      "source": [
        "X_train = X_train.reshape(60000, 28,28,1)\n",
        "X_test = X_test.reshape(10000, 28,28,1)\n",
        "\n",
        "X_train = X_train.astype('float32')\n",
        "X_test = X_test.astype('float32')\n",
        "X_train /= 255.0\n",
        "X_test /= 255.0\n",
        "print(\"Training matrix shape\", X_train.shape)\n",
        "print(\"Testing matrix shape\", X_test.shape)"
      ],
      "execution_count": 20,
      "outputs": [
        {
          "output_type": "stream",
          "name": "stdout",
          "text": [
            "Training matrix shape (60000, 28, 28, 1)\n",
            "Testing matrix shape (10000, 28, 28, 1)\n"
          ]
        }
      ]
    },
    {
      "cell_type": "markdown",
      "metadata": {
        "id": "hU9F52b4Lwsy"
      },
      "source": [
        "Zmodyfikuj macierze wyjść korzystając z techniki One Hot Encoding, tj.\n",
        "\n",
        "```\n",
        "0 -> [1, 0, 0, 0, 0, 0, 0, 0, 0]\n",
        "1 -> [0, 1, 0, 0, 0, 0, 0, 0, 0]\n",
        "2 -> [0, 0, 1, 0, 0, 0, 0, 0, 0]\n",
        "```\n",
        "itp."
      ]
    },
    {
      "cell_type": "code",
      "metadata": {
        "id": "mOEeudBmLwsz"
      },
      "source": [
        "Y_train = np_utils.to_categorical(y_train, num_classes=10)\n",
        "Y_test = np_utils.to_categorical(y_test, num_classes=10)"
      ],
      "execution_count": 21,
      "outputs": []
    },
    {
      "cell_type": "code",
      "source": [
        "print(Y_train, Y_test)"
      ],
      "metadata": {
        "colab": {
          "base_uri": "https://localhost:8080/"
        },
        "id": "dv9gnjR6Jksz",
        "outputId": "c5556bda-ec25-404f-d5a2-b6a6b930caad"
      },
      "execution_count": 22,
      "outputs": [
        {
          "output_type": "stream",
          "name": "stdout",
          "text": [
            "[[0. 0. 0. ... 0. 0. 0.]\n",
            " [1. 0. 0. ... 0. 0. 0.]\n",
            " [0. 0. 0. ... 0. 0. 0.]\n",
            " ...\n",
            " [0. 0. 0. ... 0. 0. 0.]\n",
            " [0. 0. 0. ... 0. 0. 0.]\n",
            " [0. 0. 0. ... 0. 1. 0.]] [[0. 0. 0. ... 1. 0. 0.]\n",
            " [0. 0. 1. ... 0. 0. 0.]\n",
            " [0. 1. 0. ... 0. 0. 0.]\n",
            " ...\n",
            " [0. 0. 0. ... 0. 0. 0.]\n",
            " [0. 0. 0. ... 0. 0. 0.]\n",
            " [0. 0. 0. ... 0. 0. 0.]]\n"
          ]
        }
      ]
    },
    {
      "cell_type": "markdown",
      "metadata": {
        "id": "AM5Kq1eaLws4"
      },
      "source": [
        "#Sieć MLP\n",
        "Zbuduj sieć neuronową. Na potrzeby zajęć sieć będzie posiadała 2 w pełni połączone warstwy. Na wejściu sieci jest macierz z jednym kanałem (28,28,1) dlatego pierwsza warstwa to *Flatten()*."
      ]
    },
    {
      "cell_type": "code",
      "metadata": {
        "id": "wKreY86SLws5"
      },
      "source": [
        "model = Sequential()\n",
        "model.add(Flatten(input_shape=(28,28,)))\n",
        "model.add(Dense(512, input_shape=(784,)))\n",
        "model.add(Activation('relu'))\n",
        "model.add(Dropout(0.2))   # Dropout helps protect the model from memorizing or \"overfitting\" the training data\n",
        "\n",
        "model.add(Dense(512))\n",
        "model.add(Activation('relu'))\n",
        "model.add(Dropout(0.2))\n",
        "\n",
        "model.add(Dense(10))\n",
        "model.add(Activation('softmax')) # w celu zapewnienia rozkładu wyjść sumującego się do 1"
      ],
      "execution_count": 9,
      "outputs": []
    },
    {
      "cell_type": "markdown",
      "metadata": {
        "id": "5IIpzKZJ2gaQ"
      },
      "source": [
        "#Sieć CNN\n",
        "Zbuduj sieć neuronową. Powinna to być sieć LeNet-5 ze zmodyfikowanym rozmiarem wejścia (28,28,1) zamiast (32,32,1)."
      ]
    },
    {
      "cell_type": "code",
      "metadata": {
        "id": "CDGMkAkw2jjO"
      },
      "source": [
        "model = Sequential()\n",
        "model.add(Conv2D(filters=6, kernel_size=(3, 3), activation='relu', input_shape=(28,28,1)))\n",
        "model.add(AveragePooling2D())\n",
        "model.add(Conv2D(filters=16, kernel_size=(3,3), activation='relu'))\n",
        "model.add(AveragePooling2D())\n",
        "model.add(Flatten())\n",
        "model.add(Dense(units=120, activation='relu'))\n",
        "model.add(Dense(units=84, activation='relu'))\n",
        "model.add(Dense(units=10, activation='softmax'))\n"
      ],
      "execution_count": 23,
      "outputs": []
    },
    {
      "cell_type": "markdown",
      "metadata": {
        "id": "aWGpp5O1Lws-"
      },
      "source": [
        "#Kompilacja modelu\n",
        "\n",
        "Kolejnym krokiem jest kompilacja modelu. Biblioteka Keras jest wysokopoziomowym API upraszczającym tworzenie i uczenie sieci neuronowych z wykorzystaniem biblitoeki Tensorflow. Podczas kompilacji sieci, biblioteka Keras wymaga określenia funkcji strat oraz algorytmu optymalizującego proces uczenia."
      ]
    },
    {
      "cell_type": "code",
      "metadata": {
        "id": "Cpn0-puHLws-"
      },
      "source": [
        "model.compile(loss='categorical_crossentropy', optimizer='adam', metrics=['accuracy'])"
      ],
      "execution_count": 24,
      "outputs": []
    },
    {
      "cell_type": "code",
      "metadata": {
        "id": "MZH1a31GLwtF",
        "colab": {
          "base_uri": "https://localhost:8080/"
        },
        "outputId": "b8e53c64-1cb5-417f-cce5-e4bb88bef84f"
      },
      "source": [
        "model.summary()"
      ],
      "execution_count": 25,
      "outputs": [
        {
          "output_type": "stream",
          "name": "stdout",
          "text": [
            "Model: \"sequential_1\"\n",
            "_________________________________________________________________\n",
            " Layer (type)                Output Shape              Param #   \n",
            "=================================================================\n",
            " conv2d (Conv2D)             (None, 26, 26, 6)         60        \n",
            "                                                                 \n",
            " average_pooling2d (AverageP  (None, 13, 13, 6)        0         \n",
            " ooling2D)                                                       \n",
            "                                                                 \n",
            " conv2d_1 (Conv2D)           (None, 11, 11, 16)        880       \n",
            "                                                                 \n",
            " average_pooling2d_1 (Averag  (None, 5, 5, 16)         0         \n",
            " ePooling2D)                                                     \n",
            "                                                                 \n",
            " flatten_1 (Flatten)         (None, 400)               0         \n",
            "                                                                 \n",
            " dense_3 (Dense)             (None, 120)               48120     \n",
            "                                                                 \n",
            " dense_4 (Dense)             (None, 84)                10164     \n",
            "                                                                 \n",
            " dense_5 (Dense)             (None, 10)                850       \n",
            "                                                                 \n",
            "=================================================================\n",
            "Total params: 60,074\n",
            "Trainable params: 60,074\n",
            "Non-trainable params: 0\n",
            "_________________________________________________________________\n"
          ]
        }
      ]
    },
    {
      "cell_type": "markdown",
      "metadata": {
        "id": "oN0iPEysLwtK"
      },
      "source": [
        "Po kompilacji modelu sieci neuronowej można przystąpić do uczenia sieci. Ze względu na fakt, że Jupyter notebook został uruchiomy w środowisku z biblioteką Tensorflow bez wsparcia dla GPU, to obliczenia będa wykonywane tylko i wyłącznie na CPU."
      ]
    },
    {
      "cell_type": "code",
      "metadata": {
        "id": "h13u1lcur4wl"
      },
      "source": [
        "import time\n",
        "import keras\n",
        "class TimeHistory(keras.callbacks.Callback):\n",
        "    def on_train_begin(self, logs={}):\n",
        "        self.times = []\n",
        "\n",
        "    def on_epoch_begin(self, batch, logs={}):\n",
        "        self.epoch_time_start = time.time()\n",
        "\n",
        "    def on_epoch_end(self, batch, logs={}):\n",
        "        self.times.append(time.time() - self.epoch_time_start)\n",
        "time_callback = TimeHistory()"
      ],
      "execution_count": 26,
      "outputs": []
    },
    {
      "cell_type": "code",
      "metadata": {
        "id": "97euA1BoLwtK",
        "colab": {
          "base_uri": "https://localhost:8080/"
        },
        "outputId": "0e943907-0e26-4f21-bf23-0df60a9a36c7"
      },
      "source": [
        "model.fit(X_train, Y_train,\n",
        "          batch_size=128, epochs=16,\n",
        "          verbose=1,\n",
        "          validation_data=(X_test, Y_test), callbacks = time_callback)"
      ],
      "execution_count": 27,
      "outputs": [
        {
          "output_type": "stream",
          "name": "stdout",
          "text": [
            "Epoch 1/16\n",
            "469/469 [==============================] - 10s 5ms/step - loss: 0.3930 - accuracy: 0.8949 - val_loss: 0.1153 - val_accuracy: 0.9663\n",
            "Epoch 2/16\n",
            "469/469 [==============================] - 2s 4ms/step - loss: 0.1064 - accuracy: 0.9688 - val_loss: 0.0658 - val_accuracy: 0.9793\n",
            "Epoch 3/16\n",
            "469/469 [==============================] - 2s 4ms/step - loss: 0.0736 - accuracy: 0.9775 - val_loss: 0.0513 - val_accuracy: 0.9821\n",
            "Epoch 4/16\n",
            "469/469 [==============================] - 2s 5ms/step - loss: 0.0599 - accuracy: 0.9815 - val_loss: 0.0440 - val_accuracy: 0.9859\n",
            "Epoch 5/16\n",
            "469/469 [==============================] - 2s 4ms/step - loss: 0.0491 - accuracy: 0.9846 - val_loss: 0.0438 - val_accuracy: 0.9851\n",
            "Epoch 6/16\n",
            "469/469 [==============================] - 2s 4ms/step - loss: 0.0433 - accuracy: 0.9867 - val_loss: 0.0394 - val_accuracy: 0.9870\n",
            "Epoch 7/16\n",
            "469/469 [==============================] - 2s 4ms/step - loss: 0.0378 - accuracy: 0.9879 - val_loss: 0.0373 - val_accuracy: 0.9879\n",
            "Epoch 8/16\n",
            "469/469 [==============================] - 2s 4ms/step - loss: 0.0339 - accuracy: 0.9890 - val_loss: 0.0318 - val_accuracy: 0.9895\n",
            "Epoch 9/16\n",
            "469/469 [==============================] - 2s 4ms/step - loss: 0.0287 - accuracy: 0.9911 - val_loss: 0.0381 - val_accuracy: 0.9870\n",
            "Epoch 10/16\n",
            "469/469 [==============================] - 2s 4ms/step - loss: 0.0253 - accuracy: 0.9922 - val_loss: 0.0325 - val_accuracy: 0.9889\n",
            "Epoch 11/16\n",
            "469/469 [==============================] - 2s 4ms/step - loss: 0.0229 - accuracy: 0.9927 - val_loss: 0.0301 - val_accuracy: 0.9896\n",
            "Epoch 12/16\n",
            "469/469 [==============================] - 2s 4ms/step - loss: 0.0218 - accuracy: 0.9933 - val_loss: 0.0332 - val_accuracy: 0.9901\n",
            "Epoch 13/16\n",
            "469/469 [==============================] - 2s 4ms/step - loss: 0.0190 - accuracy: 0.9940 - val_loss: 0.0374 - val_accuracy: 0.9879\n",
            "Epoch 14/16\n",
            "469/469 [==============================] - 2s 4ms/step - loss: 0.0172 - accuracy: 0.9947 - val_loss: 0.0332 - val_accuracy: 0.9887\n",
            "Epoch 15/16\n",
            "469/469 [==============================] - 2s 4ms/step - loss: 0.0155 - accuracy: 0.9949 - val_loss: 0.0361 - val_accuracy: 0.9898\n",
            "Epoch 16/16\n",
            "469/469 [==============================] - 2s 4ms/step - loss: 0.0145 - accuracy: 0.9949 - val_loss: 0.0387 - val_accuracy: 0.9889\n"
          ]
        },
        {
          "output_type": "execute_result",
          "data": {
            "text/plain": [
              "<keras.callbacks.History at 0x7f7126418a90>"
            ]
          },
          "metadata": {},
          "execution_count": 27
        }
      ]
    },
    {
      "cell_type": "code",
      "metadata": {
        "id": "jT9qa296sjL9",
        "colab": {
          "base_uri": "https://localhost:8080/"
        },
        "outputId": "cb74e95e-bd56-4fc9-dfd5-d0dbba6abc56"
      },
      "source": [
        "times = time_callback.times\n",
        "\n",
        "print(times)"
      ],
      "execution_count": 28,
      "outputs": [
        {
          "output_type": "stream",
          "name": "stdout",
          "text": [
            "[9.810861587524414, 2.0466396808624268, 2.059678077697754, 2.1163878440856934, 1.9626550674438477, 1.9622929096221924, 1.9601106643676758, 2.037508249282837, 1.9417269229888916, 2.0793721675872803, 2.051798105239868, 1.9514036178588867, 1.9390239715576172, 2.0811216831207275, 1.9454433917999268, 1.9696869850158691]\n"
          ]
        }
      ]
    },
    {
      "cell_type": "markdown",
      "metadata": {
        "id": "QwwGeJ6PLwtp"
      },
      "source": [
        "## Ewaluacja sieci neuronowej dla zbioru MNIST"
      ]
    },
    {
      "cell_type": "code",
      "metadata": {
        "id": "W8ZNIBBdLwtr",
        "colab": {
          "base_uri": "https://localhost:8080/",
          "height": 888
        },
        "outputId": "e160085b-34d9-4685-c802-8285b988de3a"
      },
      "source": [
        "score = model.evaluate(X_test, Y_test,verbose=0)\n",
        "print('Test score:', score)\n",
        "\n",
        "predicted_classes = np.argmax(model.predict(X_test), axis=-1)\n",
        "correct_indices = np.nonzero(predicted_classes == y_test)[0]\n",
        "incorrect_indices = np.nonzero(predicted_classes != y_test)[0]\n",
        "\n",
        "plt.figure()\n",
        "for i, correct in enumerate(correct_indices[:9]):\n",
        "    plt.subplot(3,3,i+1)\n",
        "    plt.imshow(X_test[correct].reshape(28,28), cmap='gray', interpolation='none')\n",
        "    plt.title(\"Predicted {}, Class {}\".format(predicted_classes[correct], y_test[correct]))\n",
        "    \n",
        "plt.figure()\n",
        "for i, incorrect in enumerate(incorrect_indices[:9]):\n",
        "    plt.subplot(3,3,i+1)\n",
        "    plt.imshow(X_test[incorrect].reshape(28,28), cmap='gray', interpolation='none')\n",
        "    plt.title(\"Predicted {}, Class {}\".format(predicted_classes[incorrect], y_test[incorrect]))"
      ],
      "execution_count": 29,
      "outputs": [
        {
          "output_type": "stream",
          "name": "stdout",
          "text": [
            "Test score: [0.03867487236857414, 0.9889000058174133]\n"
          ]
        },
        {
          "output_type": "display_data",
          "data": {
            "text/plain": [
              "<Figure size 504x504 with 9 Axes>"
            ],
            "image/png": "[encoded data removed]"
          },
          "metadata": {
            "needs_background": "light"
          }
        },
        {
          "output_type": "display_data",
          "data": {
            "text/plain": [
              "<Figure size 504x504 with 9 Axes>"
            ],
            "image/png": "[encoded data removed]"
          },
          "metadata": {
            "needs_background": "light"
          }
        }
      ]
    },
    {
      "cell_type": "markdown",
      "metadata": {
        "id": "XT0BYxGwLwtS"
      },
      "source": [
        "## Analiza czasu uczenia sieci z wykorzystaniem CPU oraz przy wsparciu GPU"
      ]
    },
    {
      "cell_type": "markdown",
      "metadata": {
        "id": "jv7kWHYwLwtS"
      },
      "source": [
        "Uzupełnij poniższy fragment kodu wpisując dane dotyczące czasu obliczeń dla każdej z szesnastu epok uczenia sieci neuronowej."
      ]
    },
    {
      "cell_type": "code",
      "metadata": {
        "id": "PBhpuE6SLwtT"
      },
      "source": [
        "cpu_epoch_time_MLP = [8.510006666183472, 7.817479848861694, 7.769531011581421, 7.670742750167847, 7.698668718338013, 7.728916883468628, 7.776156425476074, 7.730116605758667, 7.984307050704956, 7.811046838760376, 7.832567453384399, 7.8985161781311035, 7.649734020233154, 7.643232583999634, 7.604366779327393, 7.64295220375061]\n",
        "cpu_accuracy_MLP = 0.9832000136375427\n",
        "\n",
        "cpu_epoch_time_CNN = [20.064778089523315, 19.178752660751343, 18.75279664993286, 18.52827787399292, 18.802812099456787, 18.75349760055542, 18.66110873222351, 18.746315240859985, 18.579061031341553, 18.554613828659058, 18.754490852355957, 18.726938247680664, 18.56104016304016, 18.514719486236572, 18.834413290023804, 18.628849983215332]\n",
        "cpu_accuracy_CNN = 0.9779000282287598\n"
      ],
      "execution_count": 31,
      "outputs": []
    },
    {
      "cell_type": "markdown",
      "metadata": {
        "id": "rCnXpfgpLwtd"
      },
      "source": [
        "Uaktywnij wsparcie GPU dla obliczeń i uruchom ponownie proces uczenia sieci neuronowej na bazie MNIST i uzupełnij fragment kodu poniżej.\n",
        "\n",
        "W przypadku środowiska Anaconda zamknij środowisko *tensorflow\\_env* i uruchom środowisko *tensorflow\\_gpuenv*. W przypadku Google Colab zmień ustawienia środowiska uruchomieniowego.\n",
        "\n"
      ]
    },
    {
      "cell_type": "code",
      "metadata": {
        "id": "r19aSv6jLwte"
      },
      "source": [
        "gpu_epoch_time_MLP = [4.473373651504517, 1.6812455654144287, 2.444397211074829, 1.8504693508148193, 1.6277670860290527, 1.6374945640563965, 1.7750020027160645, 1.6567203998565674, 1.6598114967346191, 1.8065645694732666, 1.7777681350708008, 1.636564016342163, 1.793241024017334, 1.7858772277832031, 1.7634971141815186, 2.172800302505493]\n",
        "gpu_accuracy_MLP = 0.9846000075340271\n",
        "\n",
        "gpu_epoch_time_CNN = [9.810861587524414, 2.0466396808624268, 2.059678077697754, 2.1163878440856934, 1.9626550674438477, 1.9622929096221924, 1.9601106643676758, 2.037508249282837, 1.9417269229888916, 2.0793721675872803, 2.051798105239868, 1.9514036178588867, 1.9390239715576172, 2.0811216831207275, 1.9454433917999268, 1.9696869850158691]\n",
        "gpu_accuracy_CNN = 0.9889000058174133"
      ],
      "execution_count": 36,
      "outputs": []
    },
    {
      "cell_type": "markdown",
      "metadata": {
        "id": "FgGmLKKDLwtj"
      },
      "source": [
        "Zwizualizuj i przeanalizuj czas uczenia sieci neuronowej z CPU i GPU."
      ]
    },
    {
      "cell_type": "code",
      "metadata": {
        "id": "H8AOGoRtLwtj",
        "colab": {
          "base_uri": "https://localhost:8080/",
          "height": 428
        },
        "outputId": "a1ca58cd-2bfa-41a1-af51-6985619d09fc"
      },
      "source": [
        "#TODO przedstaw czas obliczeń gpu_epoch_time, cpu_epoch_time na wykresie pudełkowym\n",
        "\n",
        "data = [cpu_epoch_time_MLP, cpu_epoch_time_CNN, gpu_epoch_time_MLP, gpu_epoch_time_CNN]\n",
        "plt.boxplot(data)\n",
        "plt.show()"
      ],
      "execution_count": 37,
      "outputs": [
        {
          "output_type": "display_data",
          "data": {
            "text/plain": [
              "<Figure size 504x504 with 1 Axes>"
            ],
            "image/png": "[encoded data removed]"
          },
          "metadata": {
            "needs_background": "light"
          }
        }
      ]
    },
    {
      "cell_type": "markdown",
      "metadata": {
        "id": "t23eG5H2PXiu"
      },
      "source": [
        "**Wnioski**\n",
        "\n",
        "*#TODO Przeanalizuj różnicę pomiędzy czasem obliczeń dla CPU i GPU oraz osiągniętą jakością sieci neuronowej.*\\\n",
        "Czas dla obliczeń w trybie CPU:\\\n",
        "- dla sieci CNN: median czasu to ~19s\n",
        "- dla sieci MLP: mediana czasu to ~7,6s\n",
        "\n",
        "Czas dla obliczeń w trybie GPU:\n",
        " - dla sieci CNN: mediana to ~2,5s\n",
        " - dla sieci MLP: mediana to ~2,5s\n",
        "\n",
        " Widzimy znaczącącą poprawę szybkości w wyniku wykonawania obliczeń GPU.\\\n",
        " Szybkośc wykonywania obliczeń dla sieci CNN jest o 760% większa\\\n",
        " Szybkość wykonywania obliczeń dla sieci MLP jest o 304% większa\n",
        "\n",
        "*#TODO W przypadku korzystania z własnej karty GPU podaj specyfikację techniczą komputera i karty graficznej.*\n",
        "\n"
      ]
    },
    {
      "cell_type": "code",
      "source": [
        ""
      ],
      "metadata": {
        "id": "IczN6i2ctBtN"
      },
      "execution_count": null,
      "outputs": []
    }
  ]
}
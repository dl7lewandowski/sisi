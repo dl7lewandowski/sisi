{
  "nbformat": 4,
  "nbformat_minor": 0,
  "metadata": {
    "accelerator": "GPU",
    "colab": {
      "name": "lab4_v3_student.ipynb",
      "provenance": [],
      "collapsed_sections": []
    },
    "kernelspec": {
      "display_name": "Python 3",
      "name": "python3"
    }
  },
  "cells": [
    {
      "cell_type": "markdown",
      "metadata": {
        "id": "860PFaEBIk3H"
      },
      "source": [
        "# LAB4 - TensorFlow Lite\n",
        "ver: 3"
      ]
    },
    {
      "cell_type": "markdown",
      "metadata": {
        "id": "sSP0m_ZGIi5I"
      },
      "source": [
        "Przedmiot: _Sztuczna Inteligencja w Systemach Informatycznych_\n",
        "\n",
        "Autor: Tomasz Szydło\n",
        "\n",
        "kontakt: tszydlo@agh.edu.pl\n"
      ]
    },
    {
      "cell_type": "markdown",
      "metadata": {
        "id": "pNIkZMJIIceS"
      },
      "source": [
        "## Wprowadzenie\n",
        "\n",
        "Celem zajęć jest analiza działania konwersji sieci neuronowych do postaci możliwej do uruchomienia na urządzeniach o ograniczonych zasobach. W czasie zajęć będzie wykorzystywany zbiór Fashion MNIST, który zawiera 60000 obrazków w 10 kategoriach:\n",
        "\n",
        "https://github.com/zalandoresearch/fashion-mnist\n",
        "\n",
        "\n",
        "https://www.tensorflow.org/datasets/catalog/fashion_mnist\n",
        "\n",
        "\n",
        "### Środowisko pracy - Google Codelab\n",
        "\n",
        "https://codelabs.developers.google.com/?cat=Machine+Learning\n",
        "\n"
      ]
    },
    {
      "cell_type": "code",
      "metadata": {
        "id": "pffqMCSFKRq6"
      },
      "source": [
        "try:\n",
        "  %tensorflow_version 2.x\n",
        "except:\n",
        "  pass"
      ],
      "execution_count": null,
      "outputs": []
    },
    {
      "cell_type": "code",
      "metadata": {
        "id": "hOEVEJ4eKU85",
        "colab": {
          "base_uri": "https://localhost:8080/"
        },
        "outputId": "d0c75057-0085-49eb-a7b9-88c4ffd7ca47"
      },
      "source": [
        "import tensorflow as tf\n",
        "from tensorflow.keras.datasets import mnist, fashion_mnist\n",
        "from tensorflow.keras.models import Sequential\n",
        "from tensorflow.keras.layers import Dense, Dropout, Activation, Flatten, Conv2D, AveragePooling2D, MaxPooling2D\n",
        "\n",
        "from keras.utils import np_utils\n",
        "\n",
        "import numpy as np\n",
        "import matplotlib.pyplot as plt\n",
        "import pathlib\n",
        "\n",
        "import time\n",
        "\n",
        "print(tf.__version__)"
      ],
      "execution_count": null,
      "outputs": [
        {
          "output_type": "stream",
          "name": "stdout",
          "text": [
            "2.8.0\n"
          ]
        }
      ]
    },
    {
      "cell_type": "markdown",
      "metadata": {
        "id": "1fCavbBCMtQ9"
      },
      "source": [
        "Przygotuj zbiór testowy. Zbiór fashion_mnist nie posiada słownych opisów klas."
      ]
    },
    {
      "cell_type": "code",
      "metadata": {
        "id": "SDtjTnnKai7G",
        "colab": {
          "base_uri": "https://localhost:8080/"
        },
        "outputId": "c7fb780f-3f2b-4228-f4a2-dfa4d4ce0996"
      },
      "source": [
        "nb_classes = 10\n",
        "class_names = ['T-shirt_top', 'Trouser', 'Pullover', 'Dress', 'Coat',\n",
        "               'Sandal', 'Shirt', 'Sneaker', 'Bag', 'Ankle boot']\n",
        "\n",
        "#(X_train, y_train), (X_test, y_test) = mnist.load_data()\n",
        "(X_train, y_train), (X_test, y_test) = fashion_mnist.load_data()\n",
        "print(\"X_train original shape\", X_train.shape)\n",
        "print(\"y_train original shape\", y_train.shape)"
      ],
      "execution_count": null,
      "outputs": [
        {
          "output_type": "stream",
          "name": "stdout",
          "text": [
            "X_train original shape (60000, 28, 28)\n",
            "y_train original shape (60000,)\n"
          ]
        }
      ]
    },
    {
      "cell_type": "markdown",
      "metadata": {
        "id": "gJDe17SdCn6R"
      },
      "source": [
        "Wypisz ilość elementów w zbiorze uczącym i testowym.\n",
        "\n",
        "\n",
        "\n"
      ]
    },
    {
      "cell_type": "code",
      "metadata": {
        "id": "eAcGemlGbuUG",
        "colab": {
          "base_uri": "https://localhost:8080/"
        },
        "outputId": "c36895ef-8213-45d3-adf8-0d99c6402ce0"
      },
      "source": [
        "print(X_test)\n",
        "print(X_train)\n",
        "\n",
        "print(len(list(X_test)))\n",
        "print(len(list(X_train)))"
      ],
      "execution_count": null,
      "outputs": [
        {
          "output_type": "stream",
          "name": "stdout",
          "text": [
            "[[[0 0 0 ... 0 0 0]\n",
            "  [0 0 0 ... 0 0 0]\n",
            "  [0 0 0 ... 0 0 0]\n",
            "  ...\n",
            "  [0 0 0 ... 0 0 0]\n",
            "  [0 0 0 ... 0 0 0]\n",
            "  [0 0 0 ... 0 0 0]]\n",
            "\n",
            " [[0 0 0 ... 0 0 0]\n",
            "  [0 0 0 ... 0 0 0]\n",
            "  [0 0 0 ... 0 0 0]\n",
            "  ...\n",
            "  [0 0 0 ... 0 0 0]\n",
            "  [0 0 0 ... 0 0 0]\n",
            "  [0 0 0 ... 0 0 0]]\n",
            "\n",
            " [[0 0 0 ... 0 0 0]\n",
            "  [0 0 0 ... 0 0 0]\n",
            "  [0 0 0 ... 0 0 0]\n",
            "  ...\n",
            "  [0 0 0 ... 0 0 0]\n",
            "  [0 0 0 ... 0 0 0]\n",
            "  [0 0 0 ... 0 0 0]]\n",
            "\n",
            " ...\n",
            "\n",
            " [[0 0 0 ... 0 0 0]\n",
            "  [0 0 0 ... 0 0 0]\n",
            "  [0 0 0 ... 0 0 0]\n",
            "  ...\n",
            "  [0 0 0 ... 0 0 0]\n",
            "  [0 0 0 ... 0 0 0]\n",
            "  [0 0 0 ... 0 0 0]]\n",
            "\n",
            " [[0 0 0 ... 0 0 0]\n",
            "  [0 0 0 ... 0 0 0]\n",
            "  [0 0 0 ... 0 0 0]\n",
            "  ...\n",
            "  [0 0 0 ... 0 0 0]\n",
            "  [0 0 0 ... 0 0 0]\n",
            "  [0 0 0 ... 0 0 0]]\n",
            "\n",
            " [[0 0 0 ... 0 0 0]\n",
            "  [0 0 0 ... 0 0 0]\n",
            "  [0 0 0 ... 0 0 0]\n",
            "  ...\n",
            "  [0 0 0 ... 0 0 0]\n",
            "  [0 0 0 ... 0 0 0]\n",
            "  [0 0 0 ... 0 0 0]]]\n",
            "[[[0 0 0 ... 0 0 0]\n",
            "  [0 0 0 ... 0 0 0]\n",
            "  [0 0 0 ... 0 0 0]\n",
            "  ...\n",
            "  [0 0 0 ... 0 0 0]\n",
            "  [0 0 0 ... 0 0 0]\n",
            "  [0 0 0 ... 0 0 0]]\n",
            "\n",
            " [[0 0 0 ... 0 0 0]\n",
            "  [0 0 0 ... 0 0 0]\n",
            "  [0 0 0 ... 0 0 0]\n",
            "  ...\n",
            "  [0 0 0 ... 0 0 0]\n",
            "  [0 0 0 ... 0 0 0]\n",
            "  [0 0 0 ... 0 0 0]]\n",
            "\n",
            " [[0 0 0 ... 0 0 0]\n",
            "  [0 0 0 ... 0 0 0]\n",
            "  [0 0 0 ... 0 0 0]\n",
            "  ...\n",
            "  [0 0 0 ... 0 0 0]\n",
            "  [0 0 0 ... 0 0 0]\n",
            "  [0 0 0 ... 0 0 0]]\n",
            "\n",
            " ...\n",
            "\n",
            " [[0 0 0 ... 0 0 0]\n",
            "  [0 0 0 ... 0 0 0]\n",
            "  [0 0 0 ... 0 0 0]\n",
            "  ...\n",
            "  [0 0 0 ... 0 0 0]\n",
            "  [0 0 0 ... 0 0 0]\n",
            "  [0 0 0 ... 0 0 0]]\n",
            "\n",
            " [[0 0 0 ... 0 0 0]\n",
            "  [0 0 0 ... 0 0 0]\n",
            "  [0 0 0 ... 0 0 0]\n",
            "  ...\n",
            "  [0 0 0 ... 0 0 0]\n",
            "  [0 0 0 ... 0 0 0]\n",
            "  [0 0 0 ... 0 0 0]]\n",
            "\n",
            " [[0 0 0 ... 0 0 0]\n",
            "  [0 0 0 ... 0 0 0]\n",
            "  [0 0 0 ... 0 0 0]\n",
            "  ...\n",
            "  [0 0 0 ... 0 0 0]\n",
            "  [0 0 0 ... 0 0 0]\n",
            "  [0 0 0 ... 0 0 0]]]\n",
            "10000\n",
            "60000\n"
          ]
        }
      ]
    },
    {
      "cell_type": "markdown",
      "metadata": {
        "id": "ZnhPDvc8DCcr"
      },
      "source": [
        "**TODO** Zmień poniższy kod tak by wyświetlić 10 przykładowych obrazków - po jednym z każdej klasy."
      ]
    },
    {
      "cell_type": "code",
      "metadata": {
        "colab": {
          "base_uri": "https://localhost:8080/",
          "height": 957
        },
        "id": "G6DBqmkEcKKL",
        "outputId": "c2864223-2edb-473f-ea63-7fa7538aa2e1"
      },
      "source": [
        "for i in range(10):\n",
        "    plt.figure(figsize=(10,8))\n",
        "    plt.subplot(1, 10,i+1)\n",
        "    plt.imshow(X_test[i], cmap='gray', interpolation='none')\n",
        "    plt.title(\"{}\".format(class_names[y_test[i]]))"
      ],
      "execution_count": null,
      "outputs": [
        {
          "output_type": "display_data",
          "data": {
            "text/plain": [
              "<Figure size 720x576 with 1 Axes>"
            ],
            "image/png": "[encoded data removed]"
          },
          "metadata": {
            "needs_background": "light"
          }
        },
        {
          "output_type": "display_data",
          "data": {
            "text/plain": [
              "<Figure size 720x576 with 1 Axes>"
            ],
            "image/png": "[encoded data removed]"
          },
          "metadata": {
            "needs_background": "light"
          }
        },
        {
          "output_type": "display_data",
          "data": {
            "text/plain": [
              "<Figure size 720x576 with 1 Axes>"
            ],
            "image/png": "[encoded data removed]"
          },
          "metadata": {
            "needs_background": "light"
          }
        },
        {
          "output_type": "display_data",
          "data": {
            "text/plain": [
              "<Figure size 720x576 with 1 Axes>"
            ],
            "image/png": "[encoded data removed]"
          },
          "metadata": {
            "needs_background": "light"
          }
        },
        {
          "output_type": "display_data",
          "data": {
            "text/plain": [
              "<Figure size 720x576 with 1 Axes>"
            ],
            "image/png": "[encoded data removed]"
          },
          "metadata": {
            "needs_background": "light"
          }
        },
        {
          "output_type": "display_data",
          "data": {
            "text/plain": [
              "<Figure size 720x576 with 1 Axes>"
            ],
            "image/png": "[encoded data removed]"
          },
          "metadata": {
            "needs_background": "light"
          }
        },
        {
          "output_type": "display_data",
          "data": {
            "text/plain": [
              "<Figure size 720x576 with 1 Axes>"
            ],
            "image/png": "[encoded data removed]"
          },
          "metadata": {
            "needs_background": "light"
          }
        },
        {
          "output_type": "display_data",
          "data": {
            "text/plain": [
              "<Figure size 720x576 with 1 Axes>"
            ],
            "image/png": "[encoded data removed]"
          },
          "metadata": {
            "needs_background": "light"
          }
        },
        {
          "output_type": "display_data",
          "data": {
            "text/plain": [
              "<Figure size 720x576 with 1 Axes>"
            ],
            "image/png": "[encoded data removed]"
          },
          "metadata": {
            "needs_background": "light"
          }
        },
        {
          "output_type": "display_data",
          "data": {
            "text/plain": [
              "<Figure size 720x576 with 1 Axes>"
            ],
            "image/png": "[encoded data removed]"
          },
          "metadata": {
            "needs_background": "light"
          }
        }
      ]
    },
    {
      "cell_type": "markdown",
      "metadata": {
        "id": "VMjUbt92c1hL"
      },
      "source": [
        "Sieć neuronowa przyjmuje na wejściu obrazek z jednym kanałem - poziomem jasności, więc konieczne jest przekształcenie danych wejściowych, aby każdy obraz 28 x 28 stał się macierzą 28 x 28 x 1. \n",
        "\n",
        "Skalujemy również dane wejściowe w zakresie [0–1] zamiast [0–255]"
      ]
    },
    {
      "cell_type": "code",
      "metadata": {
        "id": "eBEvZU9gdFfU",
        "colab": {
          "base_uri": "https://localhost:8080/"
        },
        "outputId": "087230bb-1d6a-45a8-9b47-21bbbdbf4461"
      },
      "source": [
        "X_train = X_train.reshape(60000, 28,28,1)\n",
        "X_test = X_test.reshape(10000, 28,28,1)\n",
        "X_train = X_train.astype('float32')\n",
        "X_test = X_test.astype('float32')\n",
        "X_train /= 255\n",
        "X_test /= 255\n",
        "print(\"Training matrix shape\", X_train.shape)\n",
        "print(\"Testing matrix shape\", X_test.shape)\n",
        "\n",
        "print(nb_classes)"
      ],
      "execution_count": null,
      "outputs": [
        {
          "output_type": "stream",
          "name": "stdout",
          "text": [
            "Training matrix shape (60000, 28, 28, 1)\n",
            "Testing matrix shape (10000, 28, 28, 1)\n",
            "10\n"
          ]
        }
      ]
    },
    {
      "cell_type": "markdown",
      "metadata": {
        "id": "-tJKBV4LdMm7"
      },
      "source": [
        "Zmodyfikuj macierze wyjść korzystając z techniki One Hot Encoding, tj.\n",
        "\n",
        "```\n",
        "0 -> [1, 0, 0, 0, 0, 0, 0, 0, 0]\n",
        "1 -> [0, 1, 0, 0, 0, 0, 0, 0, 0]\n",
        "2 -> [0, 0, 1, 0, 0, 0, 0, 0, 0]\n",
        "```\n",
        "itp."
      ]
    },
    {
      "cell_type": "code",
      "metadata": {
        "id": "YeyLgauzdLUC"
      },
      "source": [
        "Y_train = np_utils.to_categorical(y_train, num_classes=10)\n",
        "Y_test = np_utils.to_categorical(y_test, num_classes=10)"
      ],
      "execution_count": null,
      "outputs": []
    },
    {
      "cell_type": "markdown",
      "metadata": {
        "id": "0MBVlQSBDhd3"
      },
      "source": [
        "Wielowarstwowa sieć konwolucyjna do klasyfikacji ubrań."
      ]
    },
    {
      "cell_type": "code",
      "metadata": {
        "id": "JenWFnRJPyI6"
      },
      "source": [
        "model = Sequential([\n",
        "  Conv2D(16, 3, activation='relu', input_shape=(28, 28, 1)),\n",
        "  MaxPooling2D(),\n",
        "  Conv2D(32, 3, activation='relu'),\n",
        "  Flatten(),\n",
        "  Dense(64, activation='relu'),\n",
        "  Dense(10, activation='softmax')\n",
        "])\n",
        "\n",
        "model.compile(optimizer='adam', loss='categorical_crossentropy', metrics=['accuracy'])"
      ],
      "execution_count": null,
      "outputs": []
    },
    {
      "cell_type": "code",
      "metadata": {
        "id": "iSxRrxYK6pUU",
        "colab": {
          "base_uri": "https://localhost:8080/"
        },
        "outputId": "6bf89ff6-08fb-4e15-f349-5424d47b9889"
      },
      "source": [
        "model.summary()"
      ],
      "execution_count": null,
      "outputs": [
        {
          "output_type": "stream",
          "name": "stdout",
          "text": [
            "Model: \"sequential\"\n",
            "_________________________________________________________________\n",
            " Layer (type)                Output Shape              Param #   \n",
            "=================================================================\n",
            " conv2d (Conv2D)             (None, 26, 26, 16)        160       \n",
            "                                                                 \n",
            " max_pooling2d (MaxPooling2D  (None, 13, 13, 16)       0         \n",
            " )                                                               \n",
            "                                                                 \n",
            " conv2d_1 (Conv2D)           (None, 11, 11, 32)        4640      \n",
            "                                                                 \n",
            " flatten (Flatten)           (None, 3872)              0         \n",
            "                                                                 \n",
            " dense (Dense)               (None, 64)                247872    \n",
            "                                                                 \n",
            " dense_1 (Dense)             (None, 10)                650       \n",
            "                                                                 \n",
            "=================================================================\n",
            "Total params: 253,322\n",
            "Trainable params: 253,322\n",
            "Non-trainable params: 0\n",
            "_________________________________________________________________\n"
          ]
        }
      ]
    },
    {
      "cell_type": "markdown",
      "metadata": {
        "id": "7CKJgoMcDrFv"
      },
      "source": [
        "W celu skrócenia czasu uczenia sieci wskazane jest użycie GPU."
      ]
    },
    {
      "cell_type": "code",
      "metadata": {
        "id": "Xo3UTs-Hd8L0",
        "colab": {
          "base_uri": "https://localhost:8080/"
        },
        "outputId": "8b4a7ed0-55db-464a-90e6-94d77d8ec261"
      },
      "source": [
        "model.fit(X_train, Y_train,\n",
        "          batch_size=32, epochs=10,\n",
        "          verbose=1,\n",
        "          validation_data=(X_test, Y_test))"
      ],
      "execution_count": null,
      "outputs": [
        {
          "output_type": "stream",
          "name": "stdout",
          "text": [
            "Epoch 1/10\n",
            "1875/1875 [==============================] - 22s 6ms/step - loss: 0.4357 - accuracy: 0.8433 - val_loss: 0.3378 - val_accuracy: 0.8770\n",
            "Epoch 2/10\n",
            "1875/1875 [==============================] - 12s 6ms/step - loss: 0.2896 - accuracy: 0.8958 - val_loss: 0.2788 - val_accuracy: 0.8982\n",
            "Epoch 3/10\n",
            "1875/1875 [==============================] - 10s 5ms/step - loss: 0.2398 - accuracy: 0.9128 - val_loss: 0.2618 - val_accuracy: 0.9051\n",
            "Epoch 4/10\n",
            "1875/1875 [==============================] - 10s 5ms/step - loss: 0.2064 - accuracy: 0.9236 - val_loss: 0.2498 - val_accuracy: 0.9106\n",
            "Epoch 5/10\n",
            "1875/1875 [==============================] - 10s 5ms/step - loss: 0.1791 - accuracy: 0.9338 - val_loss: 0.2464 - val_accuracy: 0.9112\n",
            "Epoch 6/10\n",
            "1875/1875 [==============================] - 10s 5ms/step - loss: 0.1564 - accuracy: 0.9430 - val_loss: 0.2410 - val_accuracy: 0.9148\n",
            "Epoch 7/10\n",
            "1875/1875 [==============================] - 10s 5ms/step - loss: 0.1367 - accuracy: 0.9492 - val_loss: 0.2512 - val_accuracy: 0.9133\n",
            "Epoch 8/10\n",
            "1875/1875 [==============================] - 10s 5ms/step - loss: 0.1190 - accuracy: 0.9561 - val_loss: 0.2615 - val_accuracy: 0.9158\n",
            "Epoch 9/10\n",
            "1875/1875 [==============================] - 10s 5ms/step - loss: 0.1037 - accuracy: 0.9621 - val_loss: 0.2801 - val_accuracy: 0.9142\n",
            "Epoch 10/10\n",
            "1875/1875 [==============================] - 15s 8ms/step - loss: 0.0885 - accuracy: 0.9677 - val_loss: 0.2997 - val_accuracy: 0.9120\n"
          ]
        },
        {
          "output_type": "execute_result",
          "data": {
            "text/plain": [
              "<keras.callbacks.History at 0x7f5ec03156d0>"
            ]
          },
          "metadata": {},
          "execution_count": 10
        }
      ]
    },
    {
      "cell_type": "markdown",
      "metadata": {
        "id": "VUF-tZzKG_5r"
      },
      "source": [
        "# Zapisywanie NN\n",
        "\n",
        "Szczegółowe informacje dotyczące zapisywania modeli TensorFlow dostępne pod linkiem:\n",
        "\n",
        "https://www.tensorflow.org/tutorials/keras/save_and_load"
      ]
    },
    {
      "cell_type": "code",
      "metadata": {
        "id": "_XXAwJIjR-eF",
        "colab": {
          "base_uri": "https://localhost:8080/"
        },
        "outputId": "0368761f-5a05-4423-9a8e-054456a2a47d"
      },
      "source": [
        "export_dir = 'saved_model'\n",
        "model.save(export_dir)"
      ],
      "execution_count": null,
      "outputs": [
        {
          "output_type": "stream",
          "name": "stdout",
          "text": [
            "INFO:tensorflow:Assets written to: saved_model/assets\n"
          ]
        }
      ]
    },
    {
      "cell_type": "markdown",
      "metadata": {
        "id": "2Qc03BzFZkOL"
      },
      "source": [
        "Po zapisaniu modelu należy kliknąć \"Refresh\" po lewej stronie w zakładce \"Files\". W katalogu \"saved_model\" znajduje się zapisany model."
      ]
    },
    {
      "cell_type": "markdown",
      "metadata": {
        "id": "2ikJea6vRj4o"
      },
      "source": [
        "# Export do TFLite\n",
        "\n",
        "Narzędzie `TFLiteConverter` zostanie wykorzystane do konwersji modelu NN do formatu akceptowanego przez TFLite tzn. `flat protocol buffers`.\n",
        "\n",
        "https://www.tensorflow.org/lite/guide/get_started#2_convert_the_model_format\n",
        "\n",
        "Wygenerowany model `\"model-base.tflite\"` operuje na wagach typu `float32`."
      ]
    },
    {
      "cell_type": "code",
      "metadata": {
        "id": "IWcRPnrS5NxX",
        "colab": {
          "base_uri": "https://localhost:8080/"
        },
        "outputId": "6d0ec688-defe-4394-b983-ff22185db1c0"
      },
      "source": [
        "  converter = tf.lite.TFLiteConverter.from_saved_model(export_dir)\n",
        "  tflite_model = converter.convert()\n",
        "\n",
        "  with open(\"model-base.tflite\", \"wb\") as f:\n",
        "    f.write(tflite_model)  \n"
      ],
      "execution_count": null,
      "outputs": [
        {
          "output_type": "stream",
          "name": "stderr",
          "text": [
            "WARNING:absl:Buffer deduplication procedure will be skipped when flatbuffer library is not properly loaded\n"
          ]
        }
      ]
    },
    {
      "cell_type": "markdown",
      "metadata": {
        "id": "yxUdslmYapId"
      },
      "source": [
        "Po zapisaniu modelu należy kliknąć \"Refresh\" po lewej stronie w zakładce \"Files\". "
      ]
    },
    {
      "cell_type": "markdown",
      "metadata": {
        "id": "RAw9StfeGxB3"
      },
      "source": [
        "Kolejnym krokiem jest kwantyzacja wag modelu z 32 bitowych liczb rzeczywistych do liczb 8 bitowych. Proces kwantyzacji jest uruchamiany na gotowym, wyuczonym modelu. Należy wybrać profil optymaliacji `tf.lite.Optimize.DEFAULT`.\n",
        "\n"
      ]
    },
    {
      "cell_type": "code",
      "metadata": {
        "id": "cimp2vhU51dZ",
        "colab": {
          "base_uri": "https://localhost:8080/"
        },
        "outputId": "9ca712f1-d4b7-46e9-804a-b2c461e41f3a"
      },
      "source": [
        "  import logging\n",
        "  logging.getLogger('tensorflow').setLevel(logging.DEBUG)\n",
        "\n",
        "  converter = tf.lite.TFLiteConverter.from_saved_model(export_dir)\n",
        "  \n",
        "  #TODO ustaw odpowiedni rodzaj optymalizacji sieci neuronowej\n",
        "  optimization = tf.lite.Optimize.DEFAULT\n",
        "  converter.optimizations = [optimization]\n",
        "  tflite_model = converter.convert()\n",
        "\n",
        "  with open(\"model-quant.tflite\", \"wb\") as f:\n",
        "    f.write(tflite_model)  \n"
      ],
      "execution_count": null,
      "outputs": [
        {
          "output_type": "stream",
          "name": "stderr",
          "text": [
            "WARNING:absl:Buffer deduplication procedure will be skipped when flatbuffer library is not properly loaded\n"
          ]
        }
      ]
    },
    {
      "cell_type": "markdown",
      "metadata": {
        "id": "Qr9DQgrKHi_B"
      },
      "source": [
        "Po zapisaniu modelu należy kliknąć \"Refresh\" po lewej stronie w zakładce \"Files\"."
      ]
    },
    {
      "cell_type": "code",
      "metadata": {
        "id": "ZUcelAwJ5NU7"
      },
      "source": [
        "# funkcja testujaca model z wykorzystaniem interpretera TFLite\n",
        "# TODO zmodyfikuj funkcje tak by zwracala (accuracy, latency)\n",
        "import time\n",
        "def test_model_accuracy(tflite_model):\n",
        "  # Load TFLite model and allocate tensors.\n",
        "  interpreter = tf.lite.Interpreter(model_path=tflite_model)\n",
        "  interpreter.allocate_tensors()\n",
        "\n",
        "  input_index = interpreter.get_input_details()[0][\"index\"]\n",
        "  output_index = interpreter.get_output_details()[0][\"index\"]\n",
        "  \n",
        "  correct_prediction = 0\n",
        "  time_start = time.time()\n",
        "  for img, label in zip(X_test, y_test):\n",
        "    \n",
        "    interpreter.set_tensor(input_index, [img])\n",
        "    interpreter.invoke()\n",
        "    prediction = interpreter.get_tensor(output_index)\n",
        "    label_is = np.argmax(prediction, axis=-1)[0]\n",
        "    label_should_be = label\n",
        "    # print(\"Label is {} should be {}.\".format(label_is, label_should_be))\n",
        "    if label_is == label_should_be: \n",
        "      correct_prediction += 1\n",
        "\n",
        "    end_time = time.time()  \n",
        "  accuracy = correct_prediction / X_test.shape[0]  \n",
        "  \n",
        "  latency = end_time - time_start \n",
        "  return (accuracy, latency) #(accuracy, latency)\n",
        "\n"
      ],
      "execution_count": null,
      "outputs": []
    },
    {
      "cell_type": "code",
      "metadata": {
        "id": "_tHC8pGhT0_N",
        "colab": {
          "base_uri": "https://localhost:8080/"
        },
        "outputId": "57b53f61-b32e-487c-f029-a46f7409da45"
      },
      "source": [
        "#TODO tylko na potrzeby testowania - do usuniecia\n",
        "print(test_model_accuracy(\"model-base.tflite\"))\n",
        "\n",
        "#TODO tylko na potrzeby testowania - do usuniecia\n",
        "print(test_model_accuracy(\"model-quant.tflite\"))\n",
        "\n",
        "model_base = test_model_accuracy(\"model-base.tflite\")\n",
        "model_quant = test_model_accuracy(\"model-quant.tflite\")"
      ],
      "execution_count": null,
      "outputs": [
        {
          "output_type": "stream",
          "name": "stdout",
          "text": [
            "(0.912, 1.1180264949798584)\n",
            "(0.9127, 19.206303119659424)\n"
          ]
        }
      ]
    },
    {
      "cell_type": "code",
      "metadata": {
        "id": "9SshGHd36A9a",
        "colab": {
          "base_uri": "https://localhost:8080/",
          "height": 483
        },
        "outputId": "d748e8e1-6fd4-4580-db99-5f7fc54e296a"
      },
      "source": [
        "# porównaj dokladnosc wynikowych modeli TFLite\n",
        "\n",
        "# TODO wyniki przedstaw na wykresie słupkowym (jeden slupek dla model-base, a drugi dla model-quant)\n",
        "data = {'Model base': model_base[0], 'Model quant': model_quant[0]}\n",
        "names = list(data.keys())\n",
        "values = list(data.values())\n",
        "plt.figure(figsize=(10,8))\n",
        "plt.bar(names, values)\n",
        "plt.show()"
      ],
      "execution_count": null,
      "outputs": [
        {
          "output_type": "display_data",
          "data": {
            "text/plain": [
              "<Figure size 720x576 with 1 Axes>"
            ],
            "image/png": "[encoded data removed]"
          },
          "metadata": {
            "needs_background": "light"
          }
        }
      ]
    },
    {
      "cell_type": "code",
      "metadata": {
        "id": "sZ9FYFBnIBaY",
        "colab": {
          "base_uri": "https://localhost:8080/",
          "height": 483
        },
        "outputId": "898f59f4-bb43-48cc-b13d-e57d27e5f985"
      },
      "source": [
        "# porównaj rozmiar wynikowych modeli TFLite\n",
        "data = {'Model base': 992.3, 'Model quant': 253.69}\n",
        "names = list(data.keys())\n",
        "values = list(data.values())\n",
        "\n",
        "plt.figure(figsize=(10,8))\n",
        "plt.bar(names, values)\n",
        "plt.show()\n",
        "# TODO wyniki przedstaw na wykresie słupkowym (jeden slupek dla model-base, a drugi dla model-quant)"
      ],
      "execution_count": null,
      "outputs": [
        {
          "output_type": "display_data",
          "data": {
            "text/plain": [
              "<Figure size 720x576 with 1 Axes>"
            ],
            "image/png": "[encoded data removed]"
          },
          "metadata": {
            "needs_background": "light"
          }
        }
      ]
    },
    {
      "cell_type": "code",
      "metadata": {
        "id": "ymoU1RNc6D5m",
        "colab": {
          "base_uri": "https://localhost:8080/",
          "height": 483
        },
        "outputId": "f1ecc134-5899-489e-b4b5-70d593c88893"
      },
      "source": [
        "# porównaj czas dzialania wynikowych modeli TFLite\n",
        "data = {'Model base': model_base[1], 'Model quant': model_quant[1]}\n",
        "names = list(data.keys())\n",
        "values = list(data.values())\n",
        "plt.figure(figsize=(10,8))\n",
        "plt.bar(names, values)\n",
        "plt.show()\n",
        "# TODO wyniki przedstaw na wykresie słupkowym (jeden slupek dla model-base, a drugi dla model-quant)"
      ],
      "execution_count": null,
      "outputs": [
        {
          "output_type": "display_data",
          "data": {
            "text/plain": [
              "<Figure size 720x576 with 1 Axes>"
            ],
            "image/png": "[encoded data removed]"
          },
          "metadata": {
            "needs_background": "light"
          }
        }
      ]
    },
    {
      "cell_type": "markdown",
      "metadata": {
        "id": "5fCWZL6YuiDh"
      },
      "source": [
        " # Wnioski\n",
        "\n",
        "**TODO** przedstaw wnioski z przeprowadzonych eksperymentów\n",
        "**TODO** dlaczego czasy działania modeli są różne? \\\n",
        "Ze względu na architekture, czasy działania modeli są rózne. \\\n",
        "- Model base: accuracy 91%, Model quant: accuracy 91% \\\n",
        "Accuracy jest na tym samym poziomie dla obydwóch modeli \\\n",
        "- Rozmiar modelu base jest prawie 4x większy niż modelu quant. \\\n",
        "- Model quant wykonywał się znacznie dłużej: 19,2 sek natomiat \\\n",
        "w przypadku modelu base czas wykonania wynosi jedynie 1,1 sek.  \n"
      ]
    },
    {
      "cell_type": "code",
      "source": [
        ""
      ],
      "metadata": {
        "id": "ZuMmBQsZ3nl7"
      },
      "execution_count": null,
      "outputs": []
    }
  ]
}